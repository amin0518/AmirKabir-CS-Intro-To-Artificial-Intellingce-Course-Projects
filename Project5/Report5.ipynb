{
  "nbformat": 4,
  "nbformat_minor": 0,
  "metadata": {
    "colab": {
      "provenance": [],
      "gpuType": "T4"
    },
    "kernelspec": {
      "name": "python3",
      "display_name": "Python 3"
    },
    "language_info": {
      "name": "python"
    }
  },
  "cells": [
    {
      "cell_type": "code",
      "execution_count": 42,
      "metadata": {
        "id": "gWO6Y5yvZOI6"
      },
      "outputs": [],
      "source": [
        "from sklearn.cluster import KMeans\n",
        "from keras.layers import Input, Dense\n",
        "from keras.models import Model, Sequential\n",
        "from keras import regularizers\n",
        "from sklearn.model_selection import train_test_split\n",
        "from sklearn.linear_model import LogisticRegression\n",
        "from sklearn.metrics import classification_report, accuracy_score\n",
        "from sklearn.manifold import TSNE\n",
        "from sklearn.decomposition import PCA, KernelPCA\n",
        "from sklearn import preprocessing\n",
        "import matplotlib.pyplot as plt\n",
        "import pandas as pd\n",
        "import numpy as np\n",
        "import seaborn as sns\n",
        "from sklearn.preprocessing import RobustScaler, MinMaxScaler, StandardScaler\n",
        "import tensorflow as tf\n",
        "from keras.models import Sequential\n",
        "from keras.layers import Input\n",
        "from keras.layers import Dense\n",
        "from keras.layers import GaussianNoise\n",
        "from keras.callbacks import EarlyStopping\n",
        "\n",
        "# sns.set(style=\"whitegrid\")\n",
        "# np.random.seed(203)\n"
      ]
    },
    {
      "cell_type": "code",
      "source": [
        "!unzip \"/content/archive.zip\""
      ],
      "metadata": {
        "colab": {
          "base_uri": "https://localhost:8080/"
        },
        "id": "hydLSe7PqAzS",
        "outputId": "6518cbb7-0de4-426c-a221-a537bbe6bed2"
      },
      "execution_count": 2,
      "outputs": [
        {
          "output_type": "stream",
          "name": "stdout",
          "text": [
            "Archive:  /content/archive.zip\n",
            "replace creditcard.csv? [y]es, [n]o, [A]ll, [N]one, [r]ename: y\n",
            "  inflating: creditcard.csv          \n"
          ]
        }
      ]
    },
    {
      "cell_type": "code",
      "source": [
        "data = pd.read_csv(\"/content/creditcard.csv\")\n",
        "data.head()"
      ],
      "metadata": {
        "colab": {
          "base_uri": "https://localhost:8080/",
          "height": 255
        },
        "id": "_EylvdcMQTEI",
        "outputId": "716277cc-06e8-4ac3-8404-852ed2fcd3a4"
      },
      "execution_count": 3,
      "outputs": [
        {
          "output_type": "execute_result",
          "data": {
            "text/plain": [
              "   Time        V1        V2        V3        V4        V5        V6        V7  \\\n",
              "0   0.0 -1.359807 -0.072781  2.536347  1.378155 -0.338321  0.462388  0.239599   \n",
              "1   0.0  1.191857  0.266151  0.166480  0.448154  0.060018 -0.082361 -0.078803   \n",
              "2   1.0 -1.358354 -1.340163  1.773209  0.379780 -0.503198  1.800499  0.791461   \n",
              "3   1.0 -0.966272 -0.185226  1.792993 -0.863291 -0.010309  1.247203  0.237609   \n",
              "4   2.0 -1.158233  0.877737  1.548718  0.403034 -0.407193  0.095921  0.592941   \n",
              "\n",
              "         V8        V9  ...       V21       V22       V23       V24       V25  \\\n",
              "0  0.098698  0.363787  ... -0.018307  0.277838 -0.110474  0.066928  0.128539   \n",
              "1  0.085102 -0.255425  ... -0.225775 -0.638672  0.101288 -0.339846  0.167170   \n",
              "2  0.247676 -1.514654  ...  0.247998  0.771679  0.909412 -0.689281 -0.327642   \n",
              "3  0.377436 -1.387024  ... -0.108300  0.005274 -0.190321 -1.175575  0.647376   \n",
              "4 -0.270533  0.817739  ... -0.009431  0.798278 -0.137458  0.141267 -0.206010   \n",
              "\n",
              "        V26       V27       V28  Amount  Class  \n",
              "0 -0.189115  0.133558 -0.021053  149.62      0  \n",
              "1  0.125895 -0.008983  0.014724    2.69      0  \n",
              "2 -0.139097 -0.055353 -0.059752  378.66      0  \n",
              "3 -0.221929  0.062723  0.061458  123.50      0  \n",
              "4  0.502292  0.219422  0.215153   69.99      0  \n",
              "\n",
              "[5 rows x 31 columns]"
            ],
            "text/html": [
              "\n",
              "  <div id=\"df-bb4111aa-856e-4e41-ace3-4bb41ef4baa6\" class=\"colab-df-container\">\n",
              "    <div>\n",
              "<style scoped>\n",
              "    .dataframe tbody tr th:only-of-type {\n",
              "        vertical-align: middle;\n",
              "    }\n",
              "\n",
              "    .dataframe tbody tr th {\n",
              "        vertical-align: top;\n",
              "    }\n",
              "\n",
              "    .dataframe thead th {\n",
              "        text-align: right;\n",
              "    }\n",
              "</style>\n",
              "<table border=\"1\" class=\"dataframe\">\n",
              "  <thead>\n",
              "    <tr style=\"text-align: right;\">\n",
              "      <th></th>\n",
              "      <th>Time</th>\n",
              "      <th>V1</th>\n",
              "      <th>V2</th>\n",
              "      <th>V3</th>\n",
              "      <th>V4</th>\n",
              "      <th>V5</th>\n",
              "      <th>V6</th>\n",
              "      <th>V7</th>\n",
              "      <th>V8</th>\n",
              "      <th>V9</th>\n",
              "      <th>...</th>\n",
              "      <th>V21</th>\n",
              "      <th>V22</th>\n",
              "      <th>V23</th>\n",
              "      <th>V24</th>\n",
              "      <th>V25</th>\n",
              "      <th>V26</th>\n",
              "      <th>V27</th>\n",
              "      <th>V28</th>\n",
              "      <th>Amount</th>\n",
              "      <th>Class</th>\n",
              "    </tr>\n",
              "  </thead>\n",
              "  <tbody>\n",
              "    <tr>\n",
              "      <th>0</th>\n",
              "      <td>0.0</td>\n",
              "      <td>-1.359807</td>\n",
              "      <td>-0.072781</td>\n",
              "      <td>2.536347</td>\n",
              "      <td>1.378155</td>\n",
              "      <td>-0.338321</td>\n",
              "      <td>0.462388</td>\n",
              "      <td>0.239599</td>\n",
              "      <td>0.098698</td>\n",
              "      <td>0.363787</td>\n",
              "      <td>...</td>\n",
              "      <td>-0.018307</td>\n",
              "      <td>0.277838</td>\n",
              "      <td>-0.110474</td>\n",
              "      <td>0.066928</td>\n",
              "      <td>0.128539</td>\n",
              "      <td>-0.189115</td>\n",
              "      <td>0.133558</td>\n",
              "      <td>-0.021053</td>\n",
              "      <td>149.62</td>\n",
              "      <td>0</td>\n",
              "    </tr>\n",
              "    <tr>\n",
              "      <th>1</th>\n",
              "      <td>0.0</td>\n",
              "      <td>1.191857</td>\n",
              "      <td>0.266151</td>\n",
              "      <td>0.166480</td>\n",
              "      <td>0.448154</td>\n",
              "      <td>0.060018</td>\n",
              "      <td>-0.082361</td>\n",
              "      <td>-0.078803</td>\n",
              "      <td>0.085102</td>\n",
              "      <td>-0.255425</td>\n",
              "      <td>...</td>\n",
              "      <td>-0.225775</td>\n",
              "      <td>-0.638672</td>\n",
              "      <td>0.101288</td>\n",
              "      <td>-0.339846</td>\n",
              "      <td>0.167170</td>\n",
              "      <td>0.125895</td>\n",
              "      <td>-0.008983</td>\n",
              "      <td>0.014724</td>\n",
              "      <td>2.69</td>\n",
              "      <td>0</td>\n",
              "    </tr>\n",
              "    <tr>\n",
              "      <th>2</th>\n",
              "      <td>1.0</td>\n",
              "      <td>-1.358354</td>\n",
              "      <td>-1.340163</td>\n",
              "      <td>1.773209</td>\n",
              "      <td>0.379780</td>\n",
              "      <td>-0.503198</td>\n",
              "      <td>1.800499</td>\n",
              "      <td>0.791461</td>\n",
              "      <td>0.247676</td>\n",
              "      <td>-1.514654</td>\n",
              "      <td>...</td>\n",
              "      <td>0.247998</td>\n",
              "      <td>0.771679</td>\n",
              "      <td>0.909412</td>\n",
              "      <td>-0.689281</td>\n",
              "      <td>-0.327642</td>\n",
              "      <td>-0.139097</td>\n",
              "      <td>-0.055353</td>\n",
              "      <td>-0.059752</td>\n",
              "      <td>378.66</td>\n",
              "      <td>0</td>\n",
              "    </tr>\n",
              "    <tr>\n",
              "      <th>3</th>\n",
              "      <td>1.0</td>\n",
              "      <td>-0.966272</td>\n",
              "      <td>-0.185226</td>\n",
              "      <td>1.792993</td>\n",
              "      <td>-0.863291</td>\n",
              "      <td>-0.010309</td>\n",
              "      <td>1.247203</td>\n",
              "      <td>0.237609</td>\n",
              "      <td>0.377436</td>\n",
              "      <td>-1.387024</td>\n",
              "      <td>...</td>\n",
              "      <td>-0.108300</td>\n",
              "      <td>0.005274</td>\n",
              "      <td>-0.190321</td>\n",
              "      <td>-1.175575</td>\n",
              "      <td>0.647376</td>\n",
              "      <td>-0.221929</td>\n",
              "      <td>0.062723</td>\n",
              "      <td>0.061458</td>\n",
              "      <td>123.50</td>\n",
              "      <td>0</td>\n",
              "    </tr>\n",
              "    <tr>\n",
              "      <th>4</th>\n",
              "      <td>2.0</td>\n",
              "      <td>-1.158233</td>\n",
              "      <td>0.877737</td>\n",
              "      <td>1.548718</td>\n",
              "      <td>0.403034</td>\n",
              "      <td>-0.407193</td>\n",
              "      <td>0.095921</td>\n",
              "      <td>0.592941</td>\n",
              "      <td>-0.270533</td>\n",
              "      <td>0.817739</td>\n",
              "      <td>...</td>\n",
              "      <td>-0.009431</td>\n",
              "      <td>0.798278</td>\n",
              "      <td>-0.137458</td>\n",
              "      <td>0.141267</td>\n",
              "      <td>-0.206010</td>\n",
              "      <td>0.502292</td>\n",
              "      <td>0.219422</td>\n",
              "      <td>0.215153</td>\n",
              "      <td>69.99</td>\n",
              "      <td>0</td>\n",
              "    </tr>\n",
              "  </tbody>\n",
              "</table>\n",
              "<p>5 rows × 31 columns</p>\n",
              "</div>\n",
              "    <div class=\"colab-df-buttons\">\n",
              "\n",
              "  <div class=\"colab-df-container\">\n",
              "    <button class=\"colab-df-convert\" onclick=\"convertToInteractive('df-bb4111aa-856e-4e41-ace3-4bb41ef4baa6')\"\n",
              "            title=\"Convert this dataframe to an interactive table.\"\n",
              "            style=\"display:none;\">\n",
              "\n",
              "  <svg xmlns=\"http://www.w3.org/2000/svg\" height=\"24px\" viewBox=\"0 -960 960 960\">\n",
              "    <path d=\"M120-120v-720h720v720H120Zm60-500h600v-160H180v160Zm220 220h160v-160H400v160Zm0 220h160v-160H400v160ZM180-400h160v-160H180v160Zm440 0h160v-160H620v160ZM180-180h160v-160H180v160Zm440 0h160v-160H620v160Z\"/>\n",
              "  </svg>\n",
              "    </button>\n",
              "\n",
              "  <style>\n",
              "    .colab-df-container {\n",
              "      display:flex;\n",
              "      gap: 12px;\n",
              "    }\n",
              "\n",
              "    .colab-df-convert {\n",
              "      background-color: #E8F0FE;\n",
              "      border: none;\n",
              "      border-radius: 50%;\n",
              "      cursor: pointer;\n",
              "      display: none;\n",
              "      fill: #1967D2;\n",
              "      height: 32px;\n",
              "      padding: 0 0 0 0;\n",
              "      width: 32px;\n",
              "    }\n",
              "\n",
              "    .colab-df-convert:hover {\n",
              "      background-color: #E2EBFA;\n",
              "      box-shadow: 0px 1px 2px rgba(60, 64, 67, 0.3), 0px 1px 3px 1px rgba(60, 64, 67, 0.15);\n",
              "      fill: #174EA6;\n",
              "    }\n",
              "\n",
              "    .colab-df-buttons div {\n",
              "      margin-bottom: 4px;\n",
              "    }\n",
              "\n",
              "    [theme=dark] .colab-df-convert {\n",
              "      background-color: #3B4455;\n",
              "      fill: #D2E3FC;\n",
              "    }\n",
              "\n",
              "    [theme=dark] .colab-df-convert:hover {\n",
              "      background-color: #434B5C;\n",
              "      box-shadow: 0px 1px 3px 1px rgba(0, 0, 0, 0.15);\n",
              "      filter: drop-shadow(0px 1px 2px rgba(0, 0, 0, 0.3));\n",
              "      fill: #FFFFFF;\n",
              "    }\n",
              "  </style>\n",
              "\n",
              "    <script>\n",
              "      const buttonEl =\n",
              "        document.querySelector('#df-bb4111aa-856e-4e41-ace3-4bb41ef4baa6 button.colab-df-convert');\n",
              "      buttonEl.style.display =\n",
              "        google.colab.kernel.accessAllowed ? 'block' : 'none';\n",
              "\n",
              "      async function convertToInteractive(key) {\n",
              "        const element = document.querySelector('#df-bb4111aa-856e-4e41-ace3-4bb41ef4baa6');\n",
              "        const dataTable =\n",
              "          await google.colab.kernel.invokeFunction('convertToInteractive',\n",
              "                                                    [key], {});\n",
              "        if (!dataTable) return;\n",
              "\n",
              "        const docLinkHtml = 'Like what you see? Visit the ' +\n",
              "          '<a target=\"_blank\" href=https://colab.research.google.com/notebooks/data_table.ipynb>data table notebook</a>'\n",
              "          + ' to learn more about interactive tables.';\n",
              "        element.innerHTML = '';\n",
              "        dataTable['output_type'] = 'display_data';\n",
              "        await google.colab.output.renderOutput(dataTable, element);\n",
              "        const docLink = document.createElement('div');\n",
              "        docLink.innerHTML = docLinkHtml;\n",
              "        element.appendChild(docLink);\n",
              "      }\n",
              "    </script>\n",
              "  </div>\n",
              "\n",
              "\n",
              "<div id=\"df-61ed291a-dbbc-486d-9f74-6728a13202d2\">\n",
              "  <button class=\"colab-df-quickchart\" onclick=\"quickchart('df-61ed291a-dbbc-486d-9f74-6728a13202d2')\"\n",
              "            title=\"Suggest charts\"\n",
              "            style=\"display:none;\">\n",
              "\n",
              "<svg xmlns=\"http://www.w3.org/2000/svg\" height=\"24px\"viewBox=\"0 0 24 24\"\n",
              "     width=\"24px\">\n",
              "    <g>\n",
              "        <path d=\"M19 3H5c-1.1 0-2 .9-2 2v14c0 1.1.9 2 2 2h14c1.1 0 2-.9 2-2V5c0-1.1-.9-2-2-2zM9 17H7v-7h2v7zm4 0h-2V7h2v10zm4 0h-2v-4h2v4z\"/>\n",
              "    </g>\n",
              "</svg>\n",
              "  </button>\n",
              "\n",
              "<style>\n",
              "  .colab-df-quickchart {\n",
              "      --bg-color: #E8F0FE;\n",
              "      --fill-color: #1967D2;\n",
              "      --hover-bg-color: #E2EBFA;\n",
              "      --hover-fill-color: #174EA6;\n",
              "      --disabled-fill-color: #AAA;\n",
              "      --disabled-bg-color: #DDD;\n",
              "  }\n",
              "\n",
              "  [theme=dark] .colab-df-quickchart {\n",
              "      --bg-color: #3B4455;\n",
              "      --fill-color: #D2E3FC;\n",
              "      --hover-bg-color: #434B5C;\n",
              "      --hover-fill-color: #FFFFFF;\n",
              "      --disabled-bg-color: #3B4455;\n",
              "      --disabled-fill-color: #666;\n",
              "  }\n",
              "\n",
              "  .colab-df-quickchart {\n",
              "    background-color: var(--bg-color);\n",
              "    border: none;\n",
              "    border-radius: 50%;\n",
              "    cursor: pointer;\n",
              "    display: none;\n",
              "    fill: var(--fill-color);\n",
              "    height: 32px;\n",
              "    padding: 0;\n",
              "    width: 32px;\n",
              "  }\n",
              "\n",
              "  .colab-df-quickchart:hover {\n",
              "    background-color: var(--hover-bg-color);\n",
              "    box-shadow: 0 1px 2px rgba(60, 64, 67, 0.3), 0 1px 3px 1px rgba(60, 64, 67, 0.15);\n",
              "    fill: var(--button-hover-fill-color);\n",
              "  }\n",
              "\n",
              "  .colab-df-quickchart-complete:disabled,\n",
              "  .colab-df-quickchart-complete:disabled:hover {\n",
              "    background-color: var(--disabled-bg-color);\n",
              "    fill: var(--disabled-fill-color);\n",
              "    box-shadow: none;\n",
              "  }\n",
              "\n",
              "  .colab-df-spinner {\n",
              "    border: 2px solid var(--fill-color);\n",
              "    border-color: transparent;\n",
              "    border-bottom-color: var(--fill-color);\n",
              "    animation:\n",
              "      spin 1s steps(1) infinite;\n",
              "  }\n",
              "\n",
              "  @keyframes spin {\n",
              "    0% {\n",
              "      border-color: transparent;\n",
              "      border-bottom-color: var(--fill-color);\n",
              "      border-left-color: var(--fill-color);\n",
              "    }\n",
              "    20% {\n",
              "      border-color: transparent;\n",
              "      border-left-color: var(--fill-color);\n",
              "      border-top-color: var(--fill-color);\n",
              "    }\n",
              "    30% {\n",
              "      border-color: transparent;\n",
              "      border-left-color: var(--fill-color);\n",
              "      border-top-color: var(--fill-color);\n",
              "      border-right-color: var(--fill-color);\n",
              "    }\n",
              "    40% {\n",
              "      border-color: transparent;\n",
              "      border-right-color: var(--fill-color);\n",
              "      border-top-color: var(--fill-color);\n",
              "    }\n",
              "    60% {\n",
              "      border-color: transparent;\n",
              "      border-right-color: var(--fill-color);\n",
              "    }\n",
              "    80% {\n",
              "      border-color: transparent;\n",
              "      border-right-color: var(--fill-color);\n",
              "      border-bottom-color: var(--fill-color);\n",
              "    }\n",
              "    90% {\n",
              "      border-color: transparent;\n",
              "      border-bottom-color: var(--fill-color);\n",
              "    }\n",
              "  }\n",
              "</style>\n",
              "\n",
              "  <script>\n",
              "    async function quickchart(key) {\n",
              "      const quickchartButtonEl =\n",
              "        document.querySelector('#' + key + ' button');\n",
              "      quickchartButtonEl.disabled = true;  // To prevent multiple clicks.\n",
              "      quickchartButtonEl.classList.add('colab-df-spinner');\n",
              "      try {\n",
              "        const charts = await google.colab.kernel.invokeFunction(\n",
              "            'suggestCharts', [key], {});\n",
              "      } catch (error) {\n",
              "        console.error('Error during call to suggestCharts:', error);\n",
              "      }\n",
              "      quickchartButtonEl.classList.remove('colab-df-spinner');\n",
              "      quickchartButtonEl.classList.add('colab-df-quickchart-complete');\n",
              "    }\n",
              "    (() => {\n",
              "      let quickchartButtonEl =\n",
              "        document.querySelector('#df-61ed291a-dbbc-486d-9f74-6728a13202d2 button');\n",
              "      quickchartButtonEl.style.display =\n",
              "        google.colab.kernel.accessAllowed ? 'block' : 'none';\n",
              "    })();\n",
              "  </script>\n",
              "</div>\n",
              "    </div>\n",
              "  </div>\n"
            ]
          },
          "metadata": {},
          "execution_count": 3
        }
      ]
    },
    {
      "cell_type": "code",
      "source": [
        "classStats = data['Class'].value_counts().to_frame().reset_index()\n",
        "classStats['percent'] = classStats[\"Class\"].apply(lambda x : round(100*float(x) / len(data), 2))\n",
        "classStats = classStats.rename(columns = {\"index\" : \"ClassLabel\", \"Class\" : \"count\"})\n",
        "classStats"
      ],
      "metadata": {
        "id": "I-4iEzOTdhij",
        "colab": {
          "base_uri": "https://localhost:8080/",
          "height": 112
        },
        "outputId": "d07a1636-54fe-4fb0-f805-74e27afb79eb"
      },
      "execution_count": 4,
      "outputs": [
        {
          "output_type": "execute_result",
          "data": {
            "text/plain": [
              "   ClassLabel   count  percent\n",
              "0           0  284315    99.83\n",
              "1           1     492     0.17"
            ],
            "text/html": [
              "\n",
              "  <div id=\"df-c91632b4-4b1b-45df-b0b7-02f91cb1ae70\" class=\"colab-df-container\">\n",
              "    <div>\n",
              "<style scoped>\n",
              "    .dataframe tbody tr th:only-of-type {\n",
              "        vertical-align: middle;\n",
              "    }\n",
              "\n",
              "    .dataframe tbody tr th {\n",
              "        vertical-align: top;\n",
              "    }\n",
              "\n",
              "    .dataframe thead th {\n",
              "        text-align: right;\n",
              "    }\n",
              "</style>\n",
              "<table border=\"1\" class=\"dataframe\">\n",
              "  <thead>\n",
              "    <tr style=\"text-align: right;\">\n",
              "      <th></th>\n",
              "      <th>ClassLabel</th>\n",
              "      <th>count</th>\n",
              "      <th>percent</th>\n",
              "    </tr>\n",
              "  </thead>\n",
              "  <tbody>\n",
              "    <tr>\n",
              "      <th>0</th>\n",
              "      <td>0</td>\n",
              "      <td>284315</td>\n",
              "      <td>99.83</td>\n",
              "    </tr>\n",
              "    <tr>\n",
              "      <th>1</th>\n",
              "      <td>1</td>\n",
              "      <td>492</td>\n",
              "      <td>0.17</td>\n",
              "    </tr>\n",
              "  </tbody>\n",
              "</table>\n",
              "</div>\n",
              "    <div class=\"colab-df-buttons\">\n",
              "\n",
              "  <div class=\"colab-df-container\">\n",
              "    <button class=\"colab-df-convert\" onclick=\"convertToInteractive('df-c91632b4-4b1b-45df-b0b7-02f91cb1ae70')\"\n",
              "            title=\"Convert this dataframe to an interactive table.\"\n",
              "            style=\"display:none;\">\n",
              "\n",
              "  <svg xmlns=\"http://www.w3.org/2000/svg\" height=\"24px\" viewBox=\"0 -960 960 960\">\n",
              "    <path d=\"M120-120v-720h720v720H120Zm60-500h600v-160H180v160Zm220 220h160v-160H400v160Zm0 220h160v-160H400v160ZM180-400h160v-160H180v160Zm440 0h160v-160H620v160ZM180-180h160v-160H180v160Zm440 0h160v-160H620v160Z\"/>\n",
              "  </svg>\n",
              "    </button>\n",
              "\n",
              "  <style>\n",
              "    .colab-df-container {\n",
              "      display:flex;\n",
              "      gap: 12px;\n",
              "    }\n",
              "\n",
              "    .colab-df-convert {\n",
              "      background-color: #E8F0FE;\n",
              "      border: none;\n",
              "      border-radius: 50%;\n",
              "      cursor: pointer;\n",
              "      display: none;\n",
              "      fill: #1967D2;\n",
              "      height: 32px;\n",
              "      padding: 0 0 0 0;\n",
              "      width: 32px;\n",
              "    }\n",
              "\n",
              "    .colab-df-convert:hover {\n",
              "      background-color: #E2EBFA;\n",
              "      box-shadow: 0px 1px 2px rgba(60, 64, 67, 0.3), 0px 1px 3px 1px rgba(60, 64, 67, 0.15);\n",
              "      fill: #174EA6;\n",
              "    }\n",
              "\n",
              "    .colab-df-buttons div {\n",
              "      margin-bottom: 4px;\n",
              "    }\n",
              "\n",
              "    [theme=dark] .colab-df-convert {\n",
              "      background-color: #3B4455;\n",
              "      fill: #D2E3FC;\n",
              "    }\n",
              "\n",
              "    [theme=dark] .colab-df-convert:hover {\n",
              "      background-color: #434B5C;\n",
              "      box-shadow: 0px 1px 3px 1px rgba(0, 0, 0, 0.15);\n",
              "      filter: drop-shadow(0px 1px 2px rgba(0, 0, 0, 0.3));\n",
              "      fill: #FFFFFF;\n",
              "    }\n",
              "  </style>\n",
              "\n",
              "    <script>\n",
              "      const buttonEl =\n",
              "        document.querySelector('#df-c91632b4-4b1b-45df-b0b7-02f91cb1ae70 button.colab-df-convert');\n",
              "      buttonEl.style.display =\n",
              "        google.colab.kernel.accessAllowed ? 'block' : 'none';\n",
              "\n",
              "      async function convertToInteractive(key) {\n",
              "        const element = document.querySelector('#df-c91632b4-4b1b-45df-b0b7-02f91cb1ae70');\n",
              "        const dataTable =\n",
              "          await google.colab.kernel.invokeFunction('convertToInteractive',\n",
              "                                                    [key], {});\n",
              "        if (!dataTable) return;\n",
              "\n",
              "        const docLinkHtml = 'Like what you see? Visit the ' +\n",
              "          '<a target=\"_blank\" href=https://colab.research.google.com/notebooks/data_table.ipynb>data table notebook</a>'\n",
              "          + ' to learn more about interactive tables.';\n",
              "        element.innerHTML = '';\n",
              "        dataTable['output_type'] = 'display_data';\n",
              "        await google.colab.output.renderOutput(dataTable, element);\n",
              "        const docLink = document.createElement('div');\n",
              "        docLink.innerHTML = docLinkHtml;\n",
              "        element.appendChild(docLink);\n",
              "      }\n",
              "    </script>\n",
              "  </div>\n",
              "\n",
              "\n",
              "<div id=\"df-a7079ede-ab0d-4ebc-ad37-c425262ef352\">\n",
              "  <button class=\"colab-df-quickchart\" onclick=\"quickchart('df-a7079ede-ab0d-4ebc-ad37-c425262ef352')\"\n",
              "            title=\"Suggest charts\"\n",
              "            style=\"display:none;\">\n",
              "\n",
              "<svg xmlns=\"http://www.w3.org/2000/svg\" height=\"24px\"viewBox=\"0 0 24 24\"\n",
              "     width=\"24px\">\n",
              "    <g>\n",
              "        <path d=\"M19 3H5c-1.1 0-2 .9-2 2v14c0 1.1.9 2 2 2h14c1.1 0 2-.9 2-2V5c0-1.1-.9-2-2-2zM9 17H7v-7h2v7zm4 0h-2V7h2v10zm4 0h-2v-4h2v4z\"/>\n",
              "    </g>\n",
              "</svg>\n",
              "  </button>\n",
              "\n",
              "<style>\n",
              "  .colab-df-quickchart {\n",
              "      --bg-color: #E8F0FE;\n",
              "      --fill-color: #1967D2;\n",
              "      --hover-bg-color: #E2EBFA;\n",
              "      --hover-fill-color: #174EA6;\n",
              "      --disabled-fill-color: #AAA;\n",
              "      --disabled-bg-color: #DDD;\n",
              "  }\n",
              "\n",
              "  [theme=dark] .colab-df-quickchart {\n",
              "      --bg-color: #3B4455;\n",
              "      --fill-color: #D2E3FC;\n",
              "      --hover-bg-color: #434B5C;\n",
              "      --hover-fill-color: #FFFFFF;\n",
              "      --disabled-bg-color: #3B4455;\n",
              "      --disabled-fill-color: #666;\n",
              "  }\n",
              "\n",
              "  .colab-df-quickchart {\n",
              "    background-color: var(--bg-color);\n",
              "    border: none;\n",
              "    border-radius: 50%;\n",
              "    cursor: pointer;\n",
              "    display: none;\n",
              "    fill: var(--fill-color);\n",
              "    height: 32px;\n",
              "    padding: 0;\n",
              "    width: 32px;\n",
              "  }\n",
              "\n",
              "  .colab-df-quickchart:hover {\n",
              "    background-color: var(--hover-bg-color);\n",
              "    box-shadow: 0 1px 2px rgba(60, 64, 67, 0.3), 0 1px 3px 1px rgba(60, 64, 67, 0.15);\n",
              "    fill: var(--button-hover-fill-color);\n",
              "  }\n",
              "\n",
              "  .colab-df-quickchart-complete:disabled,\n",
              "  .colab-df-quickchart-complete:disabled:hover {\n",
              "    background-color: var(--disabled-bg-color);\n",
              "    fill: var(--disabled-fill-color);\n",
              "    box-shadow: none;\n",
              "  }\n",
              "\n",
              "  .colab-df-spinner {\n",
              "    border: 2px solid var(--fill-color);\n",
              "    border-color: transparent;\n",
              "    border-bottom-color: var(--fill-color);\n",
              "    animation:\n",
              "      spin 1s steps(1) infinite;\n",
              "  }\n",
              "\n",
              "  @keyframes spin {\n",
              "    0% {\n",
              "      border-color: transparent;\n",
              "      border-bottom-color: var(--fill-color);\n",
              "      border-left-color: var(--fill-color);\n",
              "    }\n",
              "    20% {\n",
              "      border-color: transparent;\n",
              "      border-left-color: var(--fill-color);\n",
              "      border-top-color: var(--fill-color);\n",
              "    }\n",
              "    30% {\n",
              "      border-color: transparent;\n",
              "      border-left-color: var(--fill-color);\n",
              "      border-top-color: var(--fill-color);\n",
              "      border-right-color: var(--fill-color);\n",
              "    }\n",
              "    40% {\n",
              "      border-color: transparent;\n",
              "      border-right-color: var(--fill-color);\n",
              "      border-top-color: var(--fill-color);\n",
              "    }\n",
              "    60% {\n",
              "      border-color: transparent;\n",
              "      border-right-color: var(--fill-color);\n",
              "    }\n",
              "    80% {\n",
              "      border-color: transparent;\n",
              "      border-right-color: var(--fill-color);\n",
              "      border-bottom-color: var(--fill-color);\n",
              "    }\n",
              "    90% {\n",
              "      border-color: transparent;\n",
              "      border-bottom-color: var(--fill-color);\n",
              "    }\n",
              "  }\n",
              "</style>\n",
              "\n",
              "  <script>\n",
              "    async function quickchart(key) {\n",
              "      const quickchartButtonEl =\n",
              "        document.querySelector('#' + key + ' button');\n",
              "      quickchartButtonEl.disabled = true;  // To prevent multiple clicks.\n",
              "      quickchartButtonEl.classList.add('colab-df-spinner');\n",
              "      try {\n",
              "        const charts = await google.colab.kernel.invokeFunction(\n",
              "            'suggestCharts', [key], {});\n",
              "      } catch (error) {\n",
              "        console.error('Error during call to suggestCharts:', error);\n",
              "      }\n",
              "      quickchartButtonEl.classList.remove('colab-df-spinner');\n",
              "      quickchartButtonEl.classList.add('colab-df-quickchart-complete');\n",
              "    }\n",
              "    (() => {\n",
              "      let quickchartButtonEl =\n",
              "        document.querySelector('#df-a7079ede-ab0d-4ebc-ad37-c425262ef352 button');\n",
              "      quickchartButtonEl.style.display =\n",
              "        google.colab.kernel.accessAllowed ? 'block' : 'none';\n",
              "    })();\n",
              "  </script>\n",
              "</div>\n",
              "    </div>\n",
              "  </div>\n"
            ]
          },
          "metadata": {},
          "execution_count": 4
        }
      ]
    },
    {
      "cell_type": "markdown",
      "source": [
        "As it can be seen our data is significantly imbalanced and we need to do something about it.\n",
        "\n"
      ],
      "metadata": {
        "id": "kv0q2V5TEGYe"
      }
    },
    {
      "cell_type": "code",
      "source": [
        "data.shape"
      ],
      "metadata": {
        "colab": {
          "base_uri": "https://localhost:8080/"
        },
        "id": "YZI_ET64DwE9",
        "outputId": "155d8900-1add-4061-fd30-d03de504f9af"
      },
      "execution_count": 5,
      "outputs": [
        {
          "output_type": "execute_result",
          "data": {
            "text/plain": [
              "(284807, 31)"
            ]
          },
          "metadata": {},
          "execution_count": 5
        }
      ]
    },
    {
      "cell_type": "code",
      "source": [
        "nun_rows = data[data.isnull().sum(axis=1)>0.0].index\n",
        "nun_rows"
      ],
      "metadata": {
        "colab": {
          "base_uri": "https://localhost:8080/"
        },
        "id": "T1PR_PujIvqd",
        "outputId": "4c5c3185-6ff7-4b07-a65e-a16ca5c4da4a"
      },
      "execution_count": 6,
      "outputs": [
        {
          "output_type": "execute_result",
          "data": {
            "text/plain": [
              "Int64Index([], dtype='int64')"
            ]
          },
          "metadata": {},
          "execution_count": 6
        }
      ]
    },
    {
      "cell_type": "markdown",
      "source": [
        "The data has no nan values."
      ],
      "metadata": {
        "id": "NP_XUwM8crj7"
      }
    },
    {
      "cell_type": "markdown",
      "source": [
        "1. Clustering"
      ],
      "metadata": {
        "id": "edqMlhXqGukb"
      }
    },
    {
      "cell_type": "markdown",
      "source": [
        "let's remove outliers from our majority class data."
      ],
      "metadata": {
        "id": "Ti2_p15jFAyY"
      }
    },
    {
      "cell_type": "code",
      "source": [
        "\"\"\"\n",
        "df = data[data['Class']==0]\n",
        "\n",
        "# Calculate the 25th and 75th percentiles for each column\n",
        "q1 = df.quantile(0.25)\n",
        "q3 = df.quantile(0.75)\n",
        "\n",
        "# Calculate the interquartile range (IQR) for each column\n",
        "iqr = q3 - q1\n",
        "\n",
        "# Define the lower and upper bounds for outliers\n",
        "lower_bound = q1 - 1.5 * iqr\n",
        "upper_bound = q3 + 1.5 * iqr\n",
        "\n",
        "# Create a boolean mask of outlier values for each column\n",
        "mask = ((df < lower_bound) | (df > upper_bound))\n",
        "\n",
        "# Combine the outlier masks of all columns using logical OR\n",
        "outlier_mask = mask.any(axis=1)\n",
        "\n",
        "# Filter the DataFrame to remove rows containing outliers\n",
        "df_no_outliers = df[~outlier_mask]\n",
        "\n",
        "# Print the DataFrame without outliers\n",
        "print(\"DataFrame without outliers:\")\n",
        "print(df_no_outliers.shape)\n",
        "\"\"\""
      ],
      "metadata": {
        "id": "7Ysd-uMjD5AG",
        "colab": {
          "base_uri": "https://localhost:8080/",
          "height": 122
        },
        "outputId": "4203d33d-ff3c-4714-cf73-272140fe8921"
      },
      "execution_count": 7,
      "outputs": [
        {
          "output_type": "execute_result",
          "data": {
            "text/plain": [
              "'\\ndf = data[data[\\'Class\\']==0]\\n\\n# Calculate the 25th and 75th percentiles for each column\\nq1 = df.quantile(0.25)\\nq3 = df.quantile(0.75)\\n\\n# Calculate the interquartile range (IQR) for each column\\niqr = q3 - q1\\n\\n# Define the lower and upper bounds for outliers\\nlower_bound = q1 - 1.5 * iqr\\nupper_bound = q3 + 1.5 * iqr\\n\\n# Create a boolean mask of outlier values for each column\\nmask = ((df < lower_bound) | (df > upper_bound))\\n\\n# Combine the outlier masks of all columns using logical OR\\noutlier_mask = mask.any(axis=1)\\n\\n# Filter the DataFrame to remove rows containing outliers\\ndf_no_outliers = df[~outlier_mask]\\n\\n# Print the DataFrame without outliers\\nprint(\"DataFrame without outliers:\")\\nprint(df_no_outliers.shape)\\n'"
            ],
            "application/vnd.google.colaboratory.intrinsic+json": {
              "type": "string"
            }
          },
          "metadata": {},
          "execution_count": 7
        }
      ]
    },
    {
      "cell_type": "code",
      "source": [
        "\"\"\"\n",
        "data = pd.concat([df_no_outliers,data[data['Class']==1]])\n",
        "data.shape\n",
        "\"\"\""
      ],
      "metadata": {
        "id": "9ZazJYFGFa8R",
        "colab": {
          "base_uri": "https://localhost:8080/",
          "height": 35
        },
        "outputId": "25dad412-8e12-438f-dd70-cbf4f853ead2"
      },
      "execution_count": 8,
      "outputs": [
        {
          "output_type": "execute_result",
          "data": {
            "text/plain": [
              "\"\\ndata = pd.concat([df_no_outliers,data[data['Class']==1]])\\ndata.shape\\n\""
            ],
            "application/vnd.google.colaboratory.intrinsic+json": {
              "type": "string"
            }
          },
          "metadata": {},
          "execution_count": 8
        }
      ]
    },
    {
      "cell_type": "markdown",
      "source": [
        "Here we standardize our datapoints and remove their labels."
      ],
      "metadata": {
        "id": "ey3Lge_rGKSD"
      }
    },
    {
      "cell_type": "code",
      "source": [
        "data= data.sample(frac=1)"
      ],
      "metadata": {
        "id": "bvKJiBcB_KwQ"
      },
      "execution_count": 9,
      "outputs": []
    },
    {
      "cell_type": "code",
      "source": [
        "X = data.iloc[:,:30]\n",
        "Y = data.iloc[:,30]\n",
        "X.head()"
      ],
      "metadata": {
        "colab": {
          "base_uri": "https://localhost:8080/",
          "height": 255
        },
        "id": "1ZoqaYvGCwOc",
        "outputId": "9088f731-584c-4cc5-d57c-9e91d31a1d2d"
      },
      "execution_count": 10,
      "outputs": [
        {
          "output_type": "execute_result",
          "data": {
            "text/plain": [
              "           Time        V1        V2        V3        V4        V5        V6  \\\n",
              "143961  85761.0 -3.123261 -2.687500  2.259697  1.440493  0.049930 -1.512294   \n",
              "56168   47296.0 -0.337196  0.584943  0.633246 -1.769438 -0.935156 -1.639173   \n",
              "127214  78247.0  1.006229 -1.364553  1.019069 -0.461272 -1.380435  0.938624   \n",
              "86857   61428.0 -3.299302  2.514588  0.252420 -1.372979 -1.463749 -1.609667   \n",
              "71539   54331.0 -0.191134  1.115185  0.643083  2.969246  0.821548 -0.728210   \n",
              "\n",
              "              V7        V8        V9  ...       V20       V21       V22  \\\n",
              "143961 -1.540200  0.630850 -1.412547  ...  0.698233  0.093162 -0.495598   \n",
              "56168   0.283909  0.177097  0.608499  ... -0.142909  0.126318  0.275257   \n",
              "127214 -1.305212  0.506348  0.010003  ...  0.143676  0.162172  0.388815   \n",
              "86857  -0.257221  0.903757  0.751690  ...  0.510735 -0.124463 -0.181794   \n",
              "71539   0.889989 -0.334860 -1.684789  ...  0.054415  0.196095  0.730003   \n",
              "\n",
              "             V23       V24       V25       V26       V27       V28  Amount  \n",
              "143961  0.213959  0.900185  0.096134 -0.329658  0.035676 -0.395943  142.00  \n",
              "56168   0.086814  0.736905 -0.302196 -0.117656 -0.084872 -0.023158   30.15  \n",
              "127214 -0.026186 -0.280205  0.131832 -0.210020  0.056805  0.024411  115.29  \n",
              "86857   0.057206  0.960352 -0.078672  0.659450  0.098824  0.132709    7.68  \n",
              "71539   0.320321  0.430638 -0.981231  0.075527  0.153634  0.230645    1.18  \n",
              "\n",
              "[5 rows x 30 columns]"
            ],
            "text/html": [
              "\n",
              "  <div id=\"df-7b741a97-0fdd-441f-bcd4-af44893317d8\" class=\"colab-df-container\">\n",
              "    <div>\n",
              "<style scoped>\n",
              "    .dataframe tbody tr th:only-of-type {\n",
              "        vertical-align: middle;\n",
              "    }\n",
              "\n",
              "    .dataframe tbody tr th {\n",
              "        vertical-align: top;\n",
              "    }\n",
              "\n",
              "    .dataframe thead th {\n",
              "        text-align: right;\n",
              "    }\n",
              "</style>\n",
              "<table border=\"1\" class=\"dataframe\">\n",
              "  <thead>\n",
              "    <tr style=\"text-align: right;\">\n",
              "      <th></th>\n",
              "      <th>Time</th>\n",
              "      <th>V1</th>\n",
              "      <th>V2</th>\n",
              "      <th>V3</th>\n",
              "      <th>V4</th>\n",
              "      <th>V5</th>\n",
              "      <th>V6</th>\n",
              "      <th>V7</th>\n",
              "      <th>V8</th>\n",
              "      <th>V9</th>\n",
              "      <th>...</th>\n",
              "      <th>V20</th>\n",
              "      <th>V21</th>\n",
              "      <th>V22</th>\n",
              "      <th>V23</th>\n",
              "      <th>V24</th>\n",
              "      <th>V25</th>\n",
              "      <th>V26</th>\n",
              "      <th>V27</th>\n",
              "      <th>V28</th>\n",
              "      <th>Amount</th>\n",
              "    </tr>\n",
              "  </thead>\n",
              "  <tbody>\n",
              "    <tr>\n",
              "      <th>143961</th>\n",
              "      <td>85761.0</td>\n",
              "      <td>-3.123261</td>\n",
              "      <td>-2.687500</td>\n",
              "      <td>2.259697</td>\n",
              "      <td>1.440493</td>\n",
              "      <td>0.049930</td>\n",
              "      <td>-1.512294</td>\n",
              "      <td>-1.540200</td>\n",
              "      <td>0.630850</td>\n",
              "      <td>-1.412547</td>\n",
              "      <td>...</td>\n",
              "      <td>0.698233</td>\n",
              "      <td>0.093162</td>\n",
              "      <td>-0.495598</td>\n",
              "      <td>0.213959</td>\n",
              "      <td>0.900185</td>\n",
              "      <td>0.096134</td>\n",
              "      <td>-0.329658</td>\n",
              "      <td>0.035676</td>\n",
              "      <td>-0.395943</td>\n",
              "      <td>142.00</td>\n",
              "    </tr>\n",
              "    <tr>\n",
              "      <th>56168</th>\n",
              "      <td>47296.0</td>\n",
              "      <td>-0.337196</td>\n",
              "      <td>0.584943</td>\n",
              "      <td>0.633246</td>\n",
              "      <td>-1.769438</td>\n",
              "      <td>-0.935156</td>\n",
              "      <td>-1.639173</td>\n",
              "      <td>0.283909</td>\n",
              "      <td>0.177097</td>\n",
              "      <td>0.608499</td>\n",
              "      <td>...</td>\n",
              "      <td>-0.142909</td>\n",
              "      <td>0.126318</td>\n",
              "      <td>0.275257</td>\n",
              "      <td>0.086814</td>\n",
              "      <td>0.736905</td>\n",
              "      <td>-0.302196</td>\n",
              "      <td>-0.117656</td>\n",
              "      <td>-0.084872</td>\n",
              "      <td>-0.023158</td>\n",
              "      <td>30.15</td>\n",
              "    </tr>\n",
              "    <tr>\n",
              "      <th>127214</th>\n",
              "      <td>78247.0</td>\n",
              "      <td>1.006229</td>\n",
              "      <td>-1.364553</td>\n",
              "      <td>1.019069</td>\n",
              "      <td>-0.461272</td>\n",
              "      <td>-1.380435</td>\n",
              "      <td>0.938624</td>\n",
              "      <td>-1.305212</td>\n",
              "      <td>0.506348</td>\n",
              "      <td>0.010003</td>\n",
              "      <td>...</td>\n",
              "      <td>0.143676</td>\n",
              "      <td>0.162172</td>\n",
              "      <td>0.388815</td>\n",
              "      <td>-0.026186</td>\n",
              "      <td>-0.280205</td>\n",
              "      <td>0.131832</td>\n",
              "      <td>-0.210020</td>\n",
              "      <td>0.056805</td>\n",
              "      <td>0.024411</td>\n",
              "      <td>115.29</td>\n",
              "    </tr>\n",
              "    <tr>\n",
              "      <th>86857</th>\n",
              "      <td>61428.0</td>\n",
              "      <td>-3.299302</td>\n",
              "      <td>2.514588</td>\n",
              "      <td>0.252420</td>\n",
              "      <td>-1.372979</td>\n",
              "      <td>-1.463749</td>\n",
              "      <td>-1.609667</td>\n",
              "      <td>-0.257221</td>\n",
              "      <td>0.903757</td>\n",
              "      <td>0.751690</td>\n",
              "      <td>...</td>\n",
              "      <td>0.510735</td>\n",
              "      <td>-0.124463</td>\n",
              "      <td>-0.181794</td>\n",
              "      <td>0.057206</td>\n",
              "      <td>0.960352</td>\n",
              "      <td>-0.078672</td>\n",
              "      <td>0.659450</td>\n",
              "      <td>0.098824</td>\n",
              "      <td>0.132709</td>\n",
              "      <td>7.68</td>\n",
              "    </tr>\n",
              "    <tr>\n",
              "      <th>71539</th>\n",
              "      <td>54331.0</td>\n",
              "      <td>-0.191134</td>\n",
              "      <td>1.115185</td>\n",
              "      <td>0.643083</td>\n",
              "      <td>2.969246</td>\n",
              "      <td>0.821548</td>\n",
              "      <td>-0.728210</td>\n",
              "      <td>0.889989</td>\n",
              "      <td>-0.334860</td>\n",
              "      <td>-1.684789</td>\n",
              "      <td>...</td>\n",
              "      <td>0.054415</td>\n",
              "      <td>0.196095</td>\n",
              "      <td>0.730003</td>\n",
              "      <td>0.320321</td>\n",
              "      <td>0.430638</td>\n",
              "      <td>-0.981231</td>\n",
              "      <td>0.075527</td>\n",
              "      <td>0.153634</td>\n",
              "      <td>0.230645</td>\n",
              "      <td>1.18</td>\n",
              "    </tr>\n",
              "  </tbody>\n",
              "</table>\n",
              "<p>5 rows × 30 columns</p>\n",
              "</div>\n",
              "    <div class=\"colab-df-buttons\">\n",
              "\n",
              "  <div class=\"colab-df-container\">\n",
              "    <button class=\"colab-df-convert\" onclick=\"convertToInteractive('df-7b741a97-0fdd-441f-bcd4-af44893317d8')\"\n",
              "            title=\"Convert this dataframe to an interactive table.\"\n",
              "            style=\"display:none;\">\n",
              "\n",
              "  <svg xmlns=\"http://www.w3.org/2000/svg\" height=\"24px\" viewBox=\"0 -960 960 960\">\n",
              "    <path d=\"M120-120v-720h720v720H120Zm60-500h600v-160H180v160Zm220 220h160v-160H400v160Zm0 220h160v-160H400v160ZM180-400h160v-160H180v160Zm440 0h160v-160H620v160ZM180-180h160v-160H180v160Zm440 0h160v-160H620v160Z\"/>\n",
              "  </svg>\n",
              "    </button>\n",
              "\n",
              "  <style>\n",
              "    .colab-df-container {\n",
              "      display:flex;\n",
              "      gap: 12px;\n",
              "    }\n",
              "\n",
              "    .colab-df-convert {\n",
              "      background-color: #E8F0FE;\n",
              "      border: none;\n",
              "      border-radius: 50%;\n",
              "      cursor: pointer;\n",
              "      display: none;\n",
              "      fill: #1967D2;\n",
              "      height: 32px;\n",
              "      padding: 0 0 0 0;\n",
              "      width: 32px;\n",
              "    }\n",
              "\n",
              "    .colab-df-convert:hover {\n",
              "      background-color: #E2EBFA;\n",
              "      box-shadow: 0px 1px 2px rgba(60, 64, 67, 0.3), 0px 1px 3px 1px rgba(60, 64, 67, 0.15);\n",
              "      fill: #174EA6;\n",
              "    }\n",
              "\n",
              "    .colab-df-buttons div {\n",
              "      margin-bottom: 4px;\n",
              "    }\n",
              "\n",
              "    [theme=dark] .colab-df-convert {\n",
              "      background-color: #3B4455;\n",
              "      fill: #D2E3FC;\n",
              "    }\n",
              "\n",
              "    [theme=dark] .colab-df-convert:hover {\n",
              "      background-color: #434B5C;\n",
              "      box-shadow: 0px 1px 3px 1px rgba(0, 0, 0, 0.15);\n",
              "      filter: drop-shadow(0px 1px 2px rgba(0, 0, 0, 0.3));\n",
              "      fill: #FFFFFF;\n",
              "    }\n",
              "  </style>\n",
              "\n",
              "    <script>\n",
              "      const buttonEl =\n",
              "        document.querySelector('#df-7b741a97-0fdd-441f-bcd4-af44893317d8 button.colab-df-convert');\n",
              "      buttonEl.style.display =\n",
              "        google.colab.kernel.accessAllowed ? 'block' : 'none';\n",
              "\n",
              "      async function convertToInteractive(key) {\n",
              "        const element = document.querySelector('#df-7b741a97-0fdd-441f-bcd4-af44893317d8');\n",
              "        const dataTable =\n",
              "          await google.colab.kernel.invokeFunction('convertToInteractive',\n",
              "                                                    [key], {});\n",
              "        if (!dataTable) return;\n",
              "\n",
              "        const docLinkHtml = 'Like what you see? Visit the ' +\n",
              "          '<a target=\"_blank\" href=https://colab.research.google.com/notebooks/data_table.ipynb>data table notebook</a>'\n",
              "          + ' to learn more about interactive tables.';\n",
              "        element.innerHTML = '';\n",
              "        dataTable['output_type'] = 'display_data';\n",
              "        await google.colab.output.renderOutput(dataTable, element);\n",
              "        const docLink = document.createElement('div');\n",
              "        docLink.innerHTML = docLinkHtml;\n",
              "        element.appendChild(docLink);\n",
              "      }\n",
              "    </script>\n",
              "  </div>\n",
              "\n",
              "\n",
              "<div id=\"df-df8dd595-13a0-4a84-a173-a684364d1364\">\n",
              "  <button class=\"colab-df-quickchart\" onclick=\"quickchart('df-df8dd595-13a0-4a84-a173-a684364d1364')\"\n",
              "            title=\"Suggest charts\"\n",
              "            style=\"display:none;\">\n",
              "\n",
              "<svg xmlns=\"http://www.w3.org/2000/svg\" height=\"24px\"viewBox=\"0 0 24 24\"\n",
              "     width=\"24px\">\n",
              "    <g>\n",
              "        <path d=\"M19 3H5c-1.1 0-2 .9-2 2v14c0 1.1.9 2 2 2h14c1.1 0 2-.9 2-2V5c0-1.1-.9-2-2-2zM9 17H7v-7h2v7zm4 0h-2V7h2v10zm4 0h-2v-4h2v4z\"/>\n",
              "    </g>\n",
              "</svg>\n",
              "  </button>\n",
              "\n",
              "<style>\n",
              "  .colab-df-quickchart {\n",
              "      --bg-color: #E8F0FE;\n",
              "      --fill-color: #1967D2;\n",
              "      --hover-bg-color: #E2EBFA;\n",
              "      --hover-fill-color: #174EA6;\n",
              "      --disabled-fill-color: #AAA;\n",
              "      --disabled-bg-color: #DDD;\n",
              "  }\n",
              "\n",
              "  [theme=dark] .colab-df-quickchart {\n",
              "      --bg-color: #3B4455;\n",
              "      --fill-color: #D2E3FC;\n",
              "      --hover-bg-color: #434B5C;\n",
              "      --hover-fill-color: #FFFFFF;\n",
              "      --disabled-bg-color: #3B4455;\n",
              "      --disabled-fill-color: #666;\n",
              "  }\n",
              "\n",
              "  .colab-df-quickchart {\n",
              "    background-color: var(--bg-color);\n",
              "    border: none;\n",
              "    border-radius: 50%;\n",
              "    cursor: pointer;\n",
              "    display: none;\n",
              "    fill: var(--fill-color);\n",
              "    height: 32px;\n",
              "    padding: 0;\n",
              "    width: 32px;\n",
              "  }\n",
              "\n",
              "  .colab-df-quickchart:hover {\n",
              "    background-color: var(--hover-bg-color);\n",
              "    box-shadow: 0 1px 2px rgba(60, 64, 67, 0.3), 0 1px 3px 1px rgba(60, 64, 67, 0.15);\n",
              "    fill: var(--button-hover-fill-color);\n",
              "  }\n",
              "\n",
              "  .colab-df-quickchart-complete:disabled,\n",
              "  .colab-df-quickchart-complete:disabled:hover {\n",
              "    background-color: var(--disabled-bg-color);\n",
              "    fill: var(--disabled-fill-color);\n",
              "    box-shadow: none;\n",
              "  }\n",
              "\n",
              "  .colab-df-spinner {\n",
              "    border: 2px solid var(--fill-color);\n",
              "    border-color: transparent;\n",
              "    border-bottom-color: var(--fill-color);\n",
              "    animation:\n",
              "      spin 1s steps(1) infinite;\n",
              "  }\n",
              "\n",
              "  @keyframes spin {\n",
              "    0% {\n",
              "      border-color: transparent;\n",
              "      border-bottom-color: var(--fill-color);\n",
              "      border-left-color: var(--fill-color);\n",
              "    }\n",
              "    20% {\n",
              "      border-color: transparent;\n",
              "      border-left-color: var(--fill-color);\n",
              "      border-top-color: var(--fill-color);\n",
              "    }\n",
              "    30% {\n",
              "      border-color: transparent;\n",
              "      border-left-color: var(--fill-color);\n",
              "      border-top-color: var(--fill-color);\n",
              "      border-right-color: var(--fill-color);\n",
              "    }\n",
              "    40% {\n",
              "      border-color: transparent;\n",
              "      border-right-color: var(--fill-color);\n",
              "      border-top-color: var(--fill-color);\n",
              "    }\n",
              "    60% {\n",
              "      border-color: transparent;\n",
              "      border-right-color: var(--fill-color);\n",
              "    }\n",
              "    80% {\n",
              "      border-color: transparent;\n",
              "      border-right-color: var(--fill-color);\n",
              "      border-bottom-color: var(--fill-color);\n",
              "    }\n",
              "    90% {\n",
              "      border-color: transparent;\n",
              "      border-bottom-color: var(--fill-color);\n",
              "    }\n",
              "  }\n",
              "</style>\n",
              "\n",
              "  <script>\n",
              "    async function quickchart(key) {\n",
              "      const quickchartButtonEl =\n",
              "        document.querySelector('#' + key + ' button');\n",
              "      quickchartButtonEl.disabled = true;  // To prevent multiple clicks.\n",
              "      quickchartButtonEl.classList.add('colab-df-spinner');\n",
              "      try {\n",
              "        const charts = await google.colab.kernel.invokeFunction(\n",
              "            'suggestCharts', [key], {});\n",
              "      } catch (error) {\n",
              "        console.error('Error during call to suggestCharts:', error);\n",
              "      }\n",
              "      quickchartButtonEl.classList.remove('colab-df-spinner');\n",
              "      quickchartButtonEl.classList.add('colab-df-quickchart-complete');\n",
              "    }\n",
              "    (() => {\n",
              "      let quickchartButtonEl =\n",
              "        document.querySelector('#df-df8dd595-13a0-4a84-a173-a684364d1364 button');\n",
              "      quickchartButtonEl.style.display =\n",
              "        google.colab.kernel.accessAllowed ? 'block' : 'none';\n",
              "    })();\n",
              "  </script>\n",
              "</div>\n",
              "    </div>\n",
              "  </div>\n"
            ]
          },
          "metadata": {},
          "execution_count": 10
        }
      ]
    },
    {
      "cell_type": "code",
      "source": [
        "scaler = MinMaxScaler()\n",
        "# X['scaled_amount'] = scaler.fit_transform(np.array(X['Amount']).reshape(-1,1))\n",
        "X.drop(columns=['Time'],inplace=True)\n",
        "for column in X.columns:\n",
        "    X[f'scaled_{column}'] = scaler.fit_transform(np.array(X[column]).reshape(-1,1))\n",
        "    X.drop(columns=[column],inplace=True)"
      ],
      "metadata": {
        "id": "v2YGXCjKYGqb"
      },
      "execution_count": 11,
      "outputs": []
    },
    {
      "cell_type": "code",
      "source": [
        "X.sample(10)"
      ],
      "metadata": {
        "colab": {
          "base_uri": "https://localhost:8080/",
          "height": 412
        },
        "id": "X0yjNfhlbAuI",
        "outputId": "782740f3-8aaf-4edc-a462-4c93c189da52"
      },
      "execution_count": 12,
      "outputs": [
        {
          "output_type": "execute_result",
          "data": {
            "text/plain": [
              "        scaled_V1  scaled_V2  scaled_V3  scaled_V4  scaled_V5  scaled_V6  \\\n",
              "201700   0.962996   0.779428   0.839842   0.304547   0.769183   0.258225   \n",
              "27664    0.973376   0.753266   0.831987   0.232808   0.759348   0.258424   \n",
              "87309    0.943921   0.776456   0.830310   0.174314   0.780419   0.296171   \n",
              "139422   0.980615   0.751767   0.858380   0.187864   0.752032   0.263839   \n",
              "204411   0.994554   0.766880   0.807558   0.255477   0.769455   0.258167   \n",
              "63061    0.940271   0.782197   0.867756   0.296207   0.762420   0.258671   \n",
              "222417   0.992840   0.773443   0.794171   0.276898   0.771418   0.250495   \n",
              "242011   0.992004   0.763790   0.833960   0.275087   0.760658   0.256901   \n",
              "239136   0.992739   0.755450   0.792690   0.179396   0.776341   0.297470   \n",
              "205043   0.935628   0.755119   0.847967   0.135348   0.761508   0.250845   \n",
              "\n",
              "        scaled_V7  scaled_V8  scaled_V9  scaled_V10  ...  scaled_V20  \\\n",
              "201700   0.269817   0.783343   0.436349    0.501480  ...    0.583393   \n",
              "27664    0.265369   0.783360   0.426571    0.522696  ...    0.580699   \n",
              "87309    0.264186   0.800172   0.452847    0.491729  ...    0.580531   \n",
              "139422   0.255017   0.786702   0.407366    0.539820  ...    0.579321   \n",
              "204411   0.266215   0.782683   0.485383    0.508759  ...    0.578323   \n",
              "63061    0.266279   0.788612   0.425111    0.503736  ...    0.581036   \n",
              "222417   0.267299   0.782331   0.468110    0.486933  ...    0.579423   \n",
              "242011   0.262026   0.784179   0.508983    0.504833  ...    0.578370   \n",
              "239136   0.256434   0.795348   0.459295    0.510281  ...    0.582531   \n",
              "205043   0.261247   0.789212   0.394155    0.519155  ...    0.580404   \n",
              "\n",
              "        scaled_V21  scaled_V22  scaled_V23  scaled_V24  scaled_V25  \\\n",
              "201700    0.558465    0.494171    0.667787    0.522725    0.515166   \n",
              "27664     0.557218    0.473658    0.661207    0.391382    0.597561   \n",
              "87309     0.558179    0.477357    0.664360    0.519653    0.575847   \n",
              "139422    0.563971    0.544437    0.663616    0.388218    0.590486   \n",
              "204411    0.564792    0.544319    0.664574    0.391975    0.599072   \n",
              "63061     0.560689    0.497706    0.666529    0.468702    0.567551   \n",
              "222417    0.563618    0.537597    0.663685    0.301490    0.595131   \n",
              "242011    0.564725    0.551667    0.667135    0.394981    0.574099   \n",
              "239136    0.565799    0.539686    0.666902    0.463979    0.570577   \n",
              "205043    0.561724    0.511533    0.665806    0.363651    0.573499   \n",
              "\n",
              "        scaled_V26  scaled_V27  scaled_V28  scaled_Amount  \n",
              "201700    0.506427    0.420487    0.318079       0.000308  \n",
              "27664     0.599832    0.414251    0.313717       0.010309  \n",
              "87309     0.476199    0.419804    0.315377       0.000039  \n",
              "139422    0.417508    0.417855    0.313900       0.003075  \n",
              "204411    0.410427    0.416119    0.311949       0.000039  \n",
              "63061     0.482831    0.410725    0.313671       0.000077  \n",
              "222417    0.409347    0.416898    0.313031       0.000039  \n",
              "242011    0.389826    0.417402    0.312410       0.000194  \n",
              "239136    0.413598    0.417229    0.312940       0.002686  \n",
              "205043    0.380999    0.421173    0.313198       0.002919  \n",
              "\n",
              "[10 rows x 29 columns]"
            ],
            "text/html": [
              "\n",
              "  <div id=\"df-94bbc7eb-8ea0-45a1-9170-6ca4bf8a0a35\" class=\"colab-df-container\">\n",
              "    <div>\n",
              "<style scoped>\n",
              "    .dataframe tbody tr th:only-of-type {\n",
              "        vertical-align: middle;\n",
              "    }\n",
              "\n",
              "    .dataframe tbody tr th {\n",
              "        vertical-align: top;\n",
              "    }\n",
              "\n",
              "    .dataframe thead th {\n",
              "        text-align: right;\n",
              "    }\n",
              "</style>\n",
              "<table border=\"1\" class=\"dataframe\">\n",
              "  <thead>\n",
              "    <tr style=\"text-align: right;\">\n",
              "      <th></th>\n",
              "      <th>scaled_V1</th>\n",
              "      <th>scaled_V2</th>\n",
              "      <th>scaled_V3</th>\n",
              "      <th>scaled_V4</th>\n",
              "      <th>scaled_V5</th>\n",
              "      <th>scaled_V6</th>\n",
              "      <th>scaled_V7</th>\n",
              "      <th>scaled_V8</th>\n",
              "      <th>scaled_V9</th>\n",
              "      <th>scaled_V10</th>\n",
              "      <th>...</th>\n",
              "      <th>scaled_V20</th>\n",
              "      <th>scaled_V21</th>\n",
              "      <th>scaled_V22</th>\n",
              "      <th>scaled_V23</th>\n",
              "      <th>scaled_V24</th>\n",
              "      <th>scaled_V25</th>\n",
              "      <th>scaled_V26</th>\n",
              "      <th>scaled_V27</th>\n",
              "      <th>scaled_V28</th>\n",
              "      <th>scaled_Amount</th>\n",
              "    </tr>\n",
              "  </thead>\n",
              "  <tbody>\n",
              "    <tr>\n",
              "      <th>201700</th>\n",
              "      <td>0.962996</td>\n",
              "      <td>0.779428</td>\n",
              "      <td>0.839842</td>\n",
              "      <td>0.304547</td>\n",
              "      <td>0.769183</td>\n",
              "      <td>0.258225</td>\n",
              "      <td>0.269817</td>\n",
              "      <td>0.783343</td>\n",
              "      <td>0.436349</td>\n",
              "      <td>0.501480</td>\n",
              "      <td>...</td>\n",
              "      <td>0.583393</td>\n",
              "      <td>0.558465</td>\n",
              "      <td>0.494171</td>\n",
              "      <td>0.667787</td>\n",
              "      <td>0.522725</td>\n",
              "      <td>0.515166</td>\n",
              "      <td>0.506427</td>\n",
              "      <td>0.420487</td>\n",
              "      <td>0.318079</td>\n",
              "      <td>0.000308</td>\n",
              "    </tr>\n",
              "    <tr>\n",
              "      <th>27664</th>\n",
              "      <td>0.973376</td>\n",
              "      <td>0.753266</td>\n",
              "      <td>0.831987</td>\n",
              "      <td>0.232808</td>\n",
              "      <td>0.759348</td>\n",
              "      <td>0.258424</td>\n",
              "      <td>0.265369</td>\n",
              "      <td>0.783360</td>\n",
              "      <td>0.426571</td>\n",
              "      <td>0.522696</td>\n",
              "      <td>...</td>\n",
              "      <td>0.580699</td>\n",
              "      <td>0.557218</td>\n",
              "      <td>0.473658</td>\n",
              "      <td>0.661207</td>\n",
              "      <td>0.391382</td>\n",
              "      <td>0.597561</td>\n",
              "      <td>0.599832</td>\n",
              "      <td>0.414251</td>\n",
              "      <td>0.313717</td>\n",
              "      <td>0.010309</td>\n",
              "    </tr>\n",
              "    <tr>\n",
              "      <th>87309</th>\n",
              "      <td>0.943921</td>\n",
              "      <td>0.776456</td>\n",
              "      <td>0.830310</td>\n",
              "      <td>0.174314</td>\n",
              "      <td>0.780419</td>\n",
              "      <td>0.296171</td>\n",
              "      <td>0.264186</td>\n",
              "      <td>0.800172</td>\n",
              "      <td>0.452847</td>\n",
              "      <td>0.491729</td>\n",
              "      <td>...</td>\n",
              "      <td>0.580531</td>\n",
              "      <td>0.558179</td>\n",
              "      <td>0.477357</td>\n",
              "      <td>0.664360</td>\n",
              "      <td>0.519653</td>\n",
              "      <td>0.575847</td>\n",
              "      <td>0.476199</td>\n",
              "      <td>0.419804</td>\n",
              "      <td>0.315377</td>\n",
              "      <td>0.000039</td>\n",
              "    </tr>\n",
              "    <tr>\n",
              "      <th>139422</th>\n",
              "      <td>0.980615</td>\n",
              "      <td>0.751767</td>\n",
              "      <td>0.858380</td>\n",
              "      <td>0.187864</td>\n",
              "      <td>0.752032</td>\n",
              "      <td>0.263839</td>\n",
              "      <td>0.255017</td>\n",
              "      <td>0.786702</td>\n",
              "      <td>0.407366</td>\n",
              "      <td>0.539820</td>\n",
              "      <td>...</td>\n",
              "      <td>0.579321</td>\n",
              "      <td>0.563971</td>\n",
              "      <td>0.544437</td>\n",
              "      <td>0.663616</td>\n",
              "      <td>0.388218</td>\n",
              "      <td>0.590486</td>\n",
              "      <td>0.417508</td>\n",
              "      <td>0.417855</td>\n",
              "      <td>0.313900</td>\n",
              "      <td>0.003075</td>\n",
              "    </tr>\n",
              "    <tr>\n",
              "      <th>204411</th>\n",
              "      <td>0.994554</td>\n",
              "      <td>0.766880</td>\n",
              "      <td>0.807558</td>\n",
              "      <td>0.255477</td>\n",
              "      <td>0.769455</td>\n",
              "      <td>0.258167</td>\n",
              "      <td>0.266215</td>\n",
              "      <td>0.782683</td>\n",
              "      <td>0.485383</td>\n",
              "      <td>0.508759</td>\n",
              "      <td>...</td>\n",
              "      <td>0.578323</td>\n",
              "      <td>0.564792</td>\n",
              "      <td>0.544319</td>\n",
              "      <td>0.664574</td>\n",
              "      <td>0.391975</td>\n",
              "      <td>0.599072</td>\n",
              "      <td>0.410427</td>\n",
              "      <td>0.416119</td>\n",
              "      <td>0.311949</td>\n",
              "      <td>0.000039</td>\n",
              "    </tr>\n",
              "    <tr>\n",
              "      <th>63061</th>\n",
              "      <td>0.940271</td>\n",
              "      <td>0.782197</td>\n",
              "      <td>0.867756</td>\n",
              "      <td>0.296207</td>\n",
              "      <td>0.762420</td>\n",
              "      <td>0.258671</td>\n",
              "      <td>0.266279</td>\n",
              "      <td>0.788612</td>\n",
              "      <td>0.425111</td>\n",
              "      <td>0.503736</td>\n",
              "      <td>...</td>\n",
              "      <td>0.581036</td>\n",
              "      <td>0.560689</td>\n",
              "      <td>0.497706</td>\n",
              "      <td>0.666529</td>\n",
              "      <td>0.468702</td>\n",
              "      <td>0.567551</td>\n",
              "      <td>0.482831</td>\n",
              "      <td>0.410725</td>\n",
              "      <td>0.313671</td>\n",
              "      <td>0.000077</td>\n",
              "    </tr>\n",
              "    <tr>\n",
              "      <th>222417</th>\n",
              "      <td>0.992840</td>\n",
              "      <td>0.773443</td>\n",
              "      <td>0.794171</td>\n",
              "      <td>0.276898</td>\n",
              "      <td>0.771418</td>\n",
              "      <td>0.250495</td>\n",
              "      <td>0.267299</td>\n",
              "      <td>0.782331</td>\n",
              "      <td>0.468110</td>\n",
              "      <td>0.486933</td>\n",
              "      <td>...</td>\n",
              "      <td>0.579423</td>\n",
              "      <td>0.563618</td>\n",
              "      <td>0.537597</td>\n",
              "      <td>0.663685</td>\n",
              "      <td>0.301490</td>\n",
              "      <td>0.595131</td>\n",
              "      <td>0.409347</td>\n",
              "      <td>0.416898</td>\n",
              "      <td>0.313031</td>\n",
              "      <td>0.000039</td>\n",
              "    </tr>\n",
              "    <tr>\n",
              "      <th>242011</th>\n",
              "      <td>0.992004</td>\n",
              "      <td>0.763790</td>\n",
              "      <td>0.833960</td>\n",
              "      <td>0.275087</td>\n",
              "      <td>0.760658</td>\n",
              "      <td>0.256901</td>\n",
              "      <td>0.262026</td>\n",
              "      <td>0.784179</td>\n",
              "      <td>0.508983</td>\n",
              "      <td>0.504833</td>\n",
              "      <td>...</td>\n",
              "      <td>0.578370</td>\n",
              "      <td>0.564725</td>\n",
              "      <td>0.551667</td>\n",
              "      <td>0.667135</td>\n",
              "      <td>0.394981</td>\n",
              "      <td>0.574099</td>\n",
              "      <td>0.389826</td>\n",
              "      <td>0.417402</td>\n",
              "      <td>0.312410</td>\n",
              "      <td>0.000194</td>\n",
              "    </tr>\n",
              "    <tr>\n",
              "      <th>239136</th>\n",
              "      <td>0.992739</td>\n",
              "      <td>0.755450</td>\n",
              "      <td>0.792690</td>\n",
              "      <td>0.179396</td>\n",
              "      <td>0.776341</td>\n",
              "      <td>0.297470</td>\n",
              "      <td>0.256434</td>\n",
              "      <td>0.795348</td>\n",
              "      <td>0.459295</td>\n",
              "      <td>0.510281</td>\n",
              "      <td>...</td>\n",
              "      <td>0.582531</td>\n",
              "      <td>0.565799</td>\n",
              "      <td>0.539686</td>\n",
              "      <td>0.666902</td>\n",
              "      <td>0.463979</td>\n",
              "      <td>0.570577</td>\n",
              "      <td>0.413598</td>\n",
              "      <td>0.417229</td>\n",
              "      <td>0.312940</td>\n",
              "      <td>0.002686</td>\n",
              "    </tr>\n",
              "    <tr>\n",
              "      <th>205043</th>\n",
              "      <td>0.935628</td>\n",
              "      <td>0.755119</td>\n",
              "      <td>0.847967</td>\n",
              "      <td>0.135348</td>\n",
              "      <td>0.761508</td>\n",
              "      <td>0.250845</td>\n",
              "      <td>0.261247</td>\n",
              "      <td>0.789212</td>\n",
              "      <td>0.394155</td>\n",
              "      <td>0.519155</td>\n",
              "      <td>...</td>\n",
              "      <td>0.580404</td>\n",
              "      <td>0.561724</td>\n",
              "      <td>0.511533</td>\n",
              "      <td>0.665806</td>\n",
              "      <td>0.363651</td>\n",
              "      <td>0.573499</td>\n",
              "      <td>0.380999</td>\n",
              "      <td>0.421173</td>\n",
              "      <td>0.313198</td>\n",
              "      <td>0.002919</td>\n",
              "    </tr>\n",
              "  </tbody>\n",
              "</table>\n",
              "<p>10 rows × 29 columns</p>\n",
              "</div>\n",
              "    <div class=\"colab-df-buttons\">\n",
              "\n",
              "  <div class=\"colab-df-container\">\n",
              "    <button class=\"colab-df-convert\" onclick=\"convertToInteractive('df-94bbc7eb-8ea0-45a1-9170-6ca4bf8a0a35')\"\n",
              "            title=\"Convert this dataframe to an interactive table.\"\n",
              "            style=\"display:none;\">\n",
              "\n",
              "  <svg xmlns=\"http://www.w3.org/2000/svg\" height=\"24px\" viewBox=\"0 -960 960 960\">\n",
              "    <path d=\"M120-120v-720h720v720H120Zm60-500h600v-160H180v160Zm220 220h160v-160H400v160Zm0 220h160v-160H400v160ZM180-400h160v-160H180v160Zm440 0h160v-160H620v160ZM180-180h160v-160H180v160Zm440 0h160v-160H620v160Z\"/>\n",
              "  </svg>\n",
              "    </button>\n",
              "\n",
              "  <style>\n",
              "    .colab-df-container {\n",
              "      display:flex;\n",
              "      gap: 12px;\n",
              "    }\n",
              "\n",
              "    .colab-df-convert {\n",
              "      background-color: #E8F0FE;\n",
              "      border: none;\n",
              "      border-radius: 50%;\n",
              "      cursor: pointer;\n",
              "      display: none;\n",
              "      fill: #1967D2;\n",
              "      height: 32px;\n",
              "      padding: 0 0 0 0;\n",
              "      width: 32px;\n",
              "    }\n",
              "\n",
              "    .colab-df-convert:hover {\n",
              "      background-color: #E2EBFA;\n",
              "      box-shadow: 0px 1px 2px rgba(60, 64, 67, 0.3), 0px 1px 3px 1px rgba(60, 64, 67, 0.15);\n",
              "      fill: #174EA6;\n",
              "    }\n",
              "\n",
              "    .colab-df-buttons div {\n",
              "      margin-bottom: 4px;\n",
              "    }\n",
              "\n",
              "    [theme=dark] .colab-df-convert {\n",
              "      background-color: #3B4455;\n",
              "      fill: #D2E3FC;\n",
              "    }\n",
              "\n",
              "    [theme=dark] .colab-df-convert:hover {\n",
              "      background-color: #434B5C;\n",
              "      box-shadow: 0px 1px 3px 1px rgba(0, 0, 0, 0.15);\n",
              "      filter: drop-shadow(0px 1px 2px rgba(0, 0, 0, 0.3));\n",
              "      fill: #FFFFFF;\n",
              "    }\n",
              "  </style>\n",
              "\n",
              "    <script>\n",
              "      const buttonEl =\n",
              "        document.querySelector('#df-94bbc7eb-8ea0-45a1-9170-6ca4bf8a0a35 button.colab-df-convert');\n",
              "      buttonEl.style.display =\n",
              "        google.colab.kernel.accessAllowed ? 'block' : 'none';\n",
              "\n",
              "      async function convertToInteractive(key) {\n",
              "        const element = document.querySelector('#df-94bbc7eb-8ea0-45a1-9170-6ca4bf8a0a35');\n",
              "        const dataTable =\n",
              "          await google.colab.kernel.invokeFunction('convertToInteractive',\n",
              "                                                    [key], {});\n",
              "        if (!dataTable) return;\n",
              "\n",
              "        const docLinkHtml = 'Like what you see? Visit the ' +\n",
              "          '<a target=\"_blank\" href=https://colab.research.google.com/notebooks/data_table.ipynb>data table notebook</a>'\n",
              "          + ' to learn more about interactive tables.';\n",
              "        element.innerHTML = '';\n",
              "        dataTable['output_type'] = 'display_data';\n",
              "        await google.colab.output.renderOutput(dataTable, element);\n",
              "        const docLink = document.createElement('div');\n",
              "        docLink.innerHTML = docLinkHtml;\n",
              "        element.appendChild(docLink);\n",
              "      }\n",
              "    </script>\n",
              "  </div>\n",
              "\n",
              "\n",
              "<div id=\"df-117cbccb-418d-4c49-b6af-5731d11b9069\">\n",
              "  <button class=\"colab-df-quickchart\" onclick=\"quickchart('df-117cbccb-418d-4c49-b6af-5731d11b9069')\"\n",
              "            title=\"Suggest charts\"\n",
              "            style=\"display:none;\">\n",
              "\n",
              "<svg xmlns=\"http://www.w3.org/2000/svg\" height=\"24px\"viewBox=\"0 0 24 24\"\n",
              "     width=\"24px\">\n",
              "    <g>\n",
              "        <path d=\"M19 3H5c-1.1 0-2 .9-2 2v14c0 1.1.9 2 2 2h14c1.1 0 2-.9 2-2V5c0-1.1-.9-2-2-2zM9 17H7v-7h2v7zm4 0h-2V7h2v10zm4 0h-2v-4h2v4z\"/>\n",
              "    </g>\n",
              "</svg>\n",
              "  </button>\n",
              "\n",
              "<style>\n",
              "  .colab-df-quickchart {\n",
              "      --bg-color: #E8F0FE;\n",
              "      --fill-color: #1967D2;\n",
              "      --hover-bg-color: #E2EBFA;\n",
              "      --hover-fill-color: #174EA6;\n",
              "      --disabled-fill-color: #AAA;\n",
              "      --disabled-bg-color: #DDD;\n",
              "  }\n",
              "\n",
              "  [theme=dark] .colab-df-quickchart {\n",
              "      --bg-color: #3B4455;\n",
              "      --fill-color: #D2E3FC;\n",
              "      --hover-bg-color: #434B5C;\n",
              "      --hover-fill-color: #FFFFFF;\n",
              "      --disabled-bg-color: #3B4455;\n",
              "      --disabled-fill-color: #666;\n",
              "  }\n",
              "\n",
              "  .colab-df-quickchart {\n",
              "    background-color: var(--bg-color);\n",
              "    border: none;\n",
              "    border-radius: 50%;\n",
              "    cursor: pointer;\n",
              "    display: none;\n",
              "    fill: var(--fill-color);\n",
              "    height: 32px;\n",
              "    padding: 0;\n",
              "    width: 32px;\n",
              "  }\n",
              "\n",
              "  .colab-df-quickchart:hover {\n",
              "    background-color: var(--hover-bg-color);\n",
              "    box-shadow: 0 1px 2px rgba(60, 64, 67, 0.3), 0 1px 3px 1px rgba(60, 64, 67, 0.15);\n",
              "    fill: var(--button-hover-fill-color);\n",
              "  }\n",
              "\n",
              "  .colab-df-quickchart-complete:disabled,\n",
              "  .colab-df-quickchart-complete:disabled:hover {\n",
              "    background-color: var(--disabled-bg-color);\n",
              "    fill: var(--disabled-fill-color);\n",
              "    box-shadow: none;\n",
              "  }\n",
              "\n",
              "  .colab-df-spinner {\n",
              "    border: 2px solid var(--fill-color);\n",
              "    border-color: transparent;\n",
              "    border-bottom-color: var(--fill-color);\n",
              "    animation:\n",
              "      spin 1s steps(1) infinite;\n",
              "  }\n",
              "\n",
              "  @keyframes spin {\n",
              "    0% {\n",
              "      border-color: transparent;\n",
              "      border-bottom-color: var(--fill-color);\n",
              "      border-left-color: var(--fill-color);\n",
              "    }\n",
              "    20% {\n",
              "      border-color: transparent;\n",
              "      border-left-color: var(--fill-color);\n",
              "      border-top-color: var(--fill-color);\n",
              "    }\n",
              "    30% {\n",
              "      border-color: transparent;\n",
              "      border-left-color: var(--fill-color);\n",
              "      border-top-color: var(--fill-color);\n",
              "      border-right-color: var(--fill-color);\n",
              "    }\n",
              "    40% {\n",
              "      border-color: transparent;\n",
              "      border-right-color: var(--fill-color);\n",
              "      border-top-color: var(--fill-color);\n",
              "    }\n",
              "    60% {\n",
              "      border-color: transparent;\n",
              "      border-right-color: var(--fill-color);\n",
              "    }\n",
              "    80% {\n",
              "      border-color: transparent;\n",
              "      border-right-color: var(--fill-color);\n",
              "      border-bottom-color: var(--fill-color);\n",
              "    }\n",
              "    90% {\n",
              "      border-color: transparent;\n",
              "      border-bottom-color: var(--fill-color);\n",
              "    }\n",
              "  }\n",
              "</style>\n",
              "\n",
              "  <script>\n",
              "    async function quickchart(key) {\n",
              "      const quickchartButtonEl =\n",
              "        document.querySelector('#' + key + ' button');\n",
              "      quickchartButtonEl.disabled = true;  // To prevent multiple clicks.\n",
              "      quickchartButtonEl.classList.add('colab-df-spinner');\n",
              "      try {\n",
              "        const charts = await google.colab.kernel.invokeFunction(\n",
              "            'suggestCharts', [key], {});\n",
              "      } catch (error) {\n",
              "        console.error('Error during call to suggestCharts:', error);\n",
              "      }\n",
              "      quickchartButtonEl.classList.remove('colab-df-spinner');\n",
              "      quickchartButtonEl.classList.add('colab-df-quickchart-complete');\n",
              "    }\n",
              "    (() => {\n",
              "      let quickchartButtonEl =\n",
              "        document.querySelector('#df-117cbccb-418d-4c49-b6af-5731d11b9069 button');\n",
              "      quickchartButtonEl.style.display =\n",
              "        google.colab.kernel.accessAllowed ? 'block' : 'none';\n",
              "    })();\n",
              "  </script>\n",
              "</div>\n",
              "    </div>\n",
              "  </div>\n"
            ]
          },
          "metadata": {},
          "execution_count": 12
        }
      ]
    },
    {
      "cell_type": "code",
      "source": [
        "X.shape"
      ],
      "metadata": {
        "colab": {
          "base_uri": "https://localhost:8080/"
        },
        "id": "c8JSIiyqYCoj",
        "outputId": "86e2c2a1-5ed4-442a-be43-ced7f3a25712"
      },
      "execution_count": 13,
      "outputs": [
        {
          "output_type": "execute_result",
          "data": {
            "text/plain": [
              "(284807, 29)"
            ]
          },
          "metadata": {},
          "execution_count": 13
        }
      ]
    },
    {
      "cell_type": "code",
      "source": [
        "Y.shape"
      ],
      "metadata": {
        "colab": {
          "base_uri": "https://localhost:8080/"
        },
        "id": "cJmg9-pjYE2u",
        "outputId": "97d3eeaf-8155-4048-c6f5-31a3302f3c2d"
      },
      "execution_count": 14,
      "outputs": [
        {
          "output_type": "execute_result",
          "data": {
            "text/plain": [
              "(284807,)"
            ]
          },
          "metadata": {},
          "execution_count": 14
        }
      ]
    },
    {
      "cell_type": "markdown",
      "source": [
        "Reading data and splitting it into train and test.\n",
        "We may not need this for clustering but we can save ourselves from extra work by doing it here. Additionally applying clustering and classification algorithms to the same train data set makes a lot more sense if we want to compare them.\n",
        "Care has been taken to do the spliting while preserving 0 to 1 label ratio in train and test data."
      ],
      "metadata": {
        "id": "_M_7s3Vf1Afx"
      }
    },
    {
      "cell_type": "code",
      "source": [
        "from sklearn.model_selection import train_test_split"
      ],
      "metadata": {
        "id": "jS2e0I_qnZl8"
      },
      "execution_count": 15,
      "outputs": []
    },
    {
      "cell_type": "code",
      "source": [
        "X_train,x_test,Y_train, y_test = train_test_split(X, Y, test_size=0.20, random_state=42,stratify=Y)"
      ],
      "metadata": {
        "id": "m9vPOk9mnRxl"
      },
      "execution_count": 16,
      "outputs": []
    },
    {
      "cell_type": "code",
      "source": [
        "stats = pd.Series(Y_train)\n",
        "round(stats.value_counts()/len(Y_train),4)"
      ],
      "metadata": {
        "colab": {
          "base_uri": "https://localhost:8080/"
        },
        "id": "MCarMNxYozE3",
        "outputId": "f5398f00-c017-44f5-c704-36356a3f8a2d"
      },
      "execution_count": 17,
      "outputs": [
        {
          "output_type": "execute_result",
          "data": {
            "text/plain": [
              "0    0.9983\n",
              "1    0.0017\n",
              "Name: Class, dtype: float64"
            ]
          },
          "metadata": {},
          "execution_count": 17
        }
      ]
    },
    {
      "cell_type": "code",
      "source": [
        "stats = pd.Series(y_test)\n",
        "round(stats.value_counts()/len(y_test),4)"
      ],
      "metadata": {
        "colab": {
          "base_uri": "https://localhost:8080/"
        },
        "id": "Gttk7jpfpeup",
        "outputId": "8fbd85f4-5985-49df-beb0-03fbba2eb97b"
      },
      "execution_count": 18,
      "outputs": [
        {
          "output_type": "execute_result",
          "data": {
            "text/plain": [
              "0    0.9983\n",
              "1    0.0017\n",
              "Name: Class, dtype: float64"
            ]
          },
          "metadata": {},
          "execution_count": 18
        }
      ]
    },
    {
      "cell_type": "markdown",
      "source": [
        "Now the train dataset must be balanced.\n",
        "\n",
        "\n",
        "We will apply the \"SMOTE\" method for over-sampling the majority class until two classes have about the same number of samples.\n",
        "Strictly speaking, this does not \"over_sample\" but rather generates new samples from convex combinations of previously seen data."
      ],
      "metadata": {
        "id": "RRswxiIfg4AA"
      }
    },
    {
      "cell_type": "code",
      "source": [
        "from imblearn.under_sampling import RandomUnderSampler\n",
        "from imblearn.over_sampling import SMOTE\n",
        "from imblearn.combine import SMOTEENN\n",
        "from collections import Counter\n",
        "from imblearn.under_sampling import RandomUnderSampler\n",
        "from imblearn.pipeline import Pipeline\n"
      ],
      "metadata": {
        "id": "j2qSVrRknhKi"
      },
      "execution_count": 19,
      "outputs": []
    },
    {
      "cell_type": "code",
      "source": [
        "print(\"Original Class Distribution: \", Counter(Y_train))\n",
        "smoteen = SMOTE(random_state=156,sampling_strategy=0.05)\n",
        "x_train, y_train = smoteen.fit_resample(X_train, Y_train)\n",
        "print(\"Resampled Class Distribution: \", Counter(y_train))"
      ],
      "metadata": {
        "colab": {
          "base_uri": "https://localhost:8080/"
        },
        "id": "PeWVXPnInkHy",
        "outputId": "fd20b727-5d6e-4e5a-efba-17d6a4bd9dc6"
      },
      "execution_count": 20,
      "outputs": [
        {
          "output_type": "stream",
          "name": "stdout",
          "text": [
            "Original Class Distribution:  Counter({0: 227451, 1: 394})\n",
            "Resampled Class Distribution:  Counter({0: 227451, 1: 11372})\n"
          ]
        }
      ]
    },
    {
      "cell_type": "markdown",
      "source": [
        "K-means Clustering"
      ],
      "metadata": {
        "id": "n_vKUfAk3AOM"
      }
    },
    {
      "cell_type": "code",
      "source": [
        "kmeans = KMeans(n_clusters=2, init='k-means++',n_init=10 )\n",
        "\n",
        "# Fit the model to the data\n",
        "kmeans.fit(x_train)\n",
        "\n",
        "# Get the cluster labels\n",
        "labels = kmeans.labels_"
      ],
      "metadata": {
        "id": "RHuaxoyEvZ7R"
      },
      "execution_count": 21,
      "outputs": []
    },
    {
      "cell_type": "markdown",
      "source": [
        "Let's see how this clustering does!"
      ],
      "metadata": {
        "id": "QsW6wAScJDuH"
      }
    },
    {
      "cell_type": "code",
      "source": [
        "from sklearn import metrics"
      ],
      "metadata": {
        "id": "pJ1rOUchJJDf"
      },
      "execution_count": 22,
      "outputs": []
    },
    {
      "cell_type": "code",
      "source": [
        "metrics.rand_score(y_train, labels)"
      ],
      "metadata": {
        "colab": {
          "base_uri": "https://localhost:8080/"
        },
        "id": "U4DwnHoLxIa3",
        "outputId": "ff546499-b62e-4996-b75b-06b6ecc969f6"
      },
      "execution_count": 23,
      "outputs": [
        {
          "output_type": "execute_result",
          "data": {
            "text/plain": [
              "0.9568645967636495"
            ]
          },
          "metadata": {},
          "execution_count": 23
        }
      ]
    },
    {
      "cell_type": "code",
      "source": [
        "metrics.adjusted_rand_score(y_train, labels)"
      ],
      "metadata": {
        "colab": {
          "base_uri": "https://localhost:8080/"
        },
        "id": "3Ec2Er9NJNef",
        "outputId": "4ff9615d-a7d2-4ff2-8b11-835144c4744d"
      },
      "execution_count": 24,
      "outputs": [
        {
          "output_type": "execute_result",
          "data": {
            "text/plain": [
              "0.6730915013770039"
            ]
          },
          "metadata": {},
          "execution_count": 24
        }
      ]
    },
    {
      "cell_type": "code",
      "source": [
        "metrics.adjusted_mutual_info_score(y_train, labels)"
      ],
      "metadata": {
        "colab": {
          "base_uri": "https://localhost:8080/"
        },
        "id": "faeBnWsLJgh3",
        "outputId": "acf0bdac-2751-4370-b1db-76993df1176c"
      },
      "execution_count": 25,
      "outputs": [
        {
          "output_type": "execute_result",
          "data": {
            "text/plain": [
              "0.5504702692001106"
            ]
          },
          "metadata": {},
          "execution_count": 25
        }
      ]
    },
    {
      "cell_type": "markdown",
      "source": [
        "adjusted_rand_score and adjusted_mutual_info_score are two scores that rely on actual data labels(ground truth) to gauge how well data belonging to different classes have been separated into differnt clusters.\n",
        "\n",
        "We have managed to cluster our data reasonably well.\n"
      ],
      "metadata": {
        "id": "pZcf-xAoK5Na"
      }
    },
    {
      "cell_type": "markdown",
      "source": [
        "PCA effect on K-means:"
      ],
      "metadata": {
        "id": "8S7VJ3S_YHfd"
      }
    },
    {
      "cell_type": "markdown",
      "source": [
        "The belove exercise shows we could have done equally well just using the 15 principal components with highest eigenvalues. Although PCA doesn't make our clustering any better."
      ],
      "metadata": {
        "id": "QWPOfuLZGr0Z"
      }
    },
    {
      "cell_type": "code",
      "source": [
        "pca = PCA().fit(x_train)\n",
        "plt.plot(np.cumsum(pca.explained_variance_ratio_))\n",
        "plt.xlabel('number of components')\n",
        "plt.ylabel('cumulative explained variance')"
      ],
      "metadata": {
        "colab": {
          "base_uri": "https://localhost:8080/",
          "height": 466
        },
        "id": "c28jRfT7b9pE",
        "outputId": "b8cd1961-35a8-4d28-d0af-9ab42807940b"
      },
      "execution_count": 26,
      "outputs": [
        {
          "output_type": "execute_result",
          "data": {
            "text/plain": [
              "Text(0, 0.5, 'cumulative explained variance')"
            ]
          },
          "metadata": {},
          "execution_count": 26
        },
        {
          "output_type": "display_data",
          "data": {
            "text/plain": [
              "<Figure size 640x480 with 1 Axes>"
            ],
            "image/png": "[encoded data removed]"
          },
          "metadata": {}
        }
      ]
    },
    {
      "cell_type": "code",
      "source": [
        "dim_reduce = PCA(n_components=.95)\n",
        "pcaData = dim_reduce.fit_transform(x_train)\n",
        "pcaData = pd.DataFrame(pcaData)\n",
        "pcaData.sample(5)"
      ],
      "metadata": {
        "colab": {
          "base_uri": "https://localhost:8080/",
          "height": 226
        },
        "id": "njQBuPGka4tS",
        "outputId": "d1fe9c09-5193-4867-9360-f06b41038a75"
      },
      "execution_count": 27,
      "outputs": [
        {
          "output_type": "execute_result",
          "data": {
            "text/plain": [
              "              0         1         2         3         4         5         6   \\\n",
              "30704  -0.065911 -0.033710  0.050281 -0.079252  0.018650 -0.007556 -0.034255   \n",
              "186154 -0.061104 -0.073636 -0.063302  0.122202 -0.002651 -0.024399 -0.171544   \n",
              "125036  0.001447 -0.007809  0.156424  0.034424  0.041903 -0.037890 -0.022194   \n",
              "195001 -0.004217  0.060281  0.020216 -0.121467  0.025085  0.002114  0.048279   \n",
              "87769  -0.047378 -0.019508  0.106611  0.047930 -0.044737 -0.020456  0.018591   \n",
              "\n",
              "              7         8         9         10        11        12        13  \\\n",
              "30704   0.031543 -0.066850 -0.020734  0.012421  0.004593  0.046904 -0.052841   \n",
              "186154 -0.040400 -0.044731 -0.025990 -0.049684  0.006534 -0.038879  0.050438   \n",
              "125036  0.005165  0.035991 -0.060186  0.051078 -0.097887  0.053713  0.022668   \n",
              "195001 -0.037175  0.038283 -0.015712  0.023496  0.015339  0.021293 -0.003993   \n",
              "87769   0.012396 -0.073754  0.014946 -0.005362  0.049263  0.053734 -0.039447   \n",
              "\n",
              "              14        15  \n",
              "30704   0.002475 -0.037123  \n",
              "186154  0.022764  0.023830  \n",
              "125036 -0.001424 -0.003897  \n",
              "195001 -0.000141 -0.050301  \n",
              "87769   0.005080  0.028704  "
            ],
            "text/html": [
              "\n",
              "  <div id=\"df-4725a01c-d3e0-45a0-8cb5-e413b43c71de\" class=\"colab-df-container\">\n",
              "    <div>\n",
              "<style scoped>\n",
              "    .dataframe tbody tr th:only-of-type {\n",
              "        vertical-align: middle;\n",
              "    }\n",
              "\n",
              "    .dataframe tbody tr th {\n",
              "        vertical-align: top;\n",
              "    }\n",
              "\n",
              "    .dataframe thead th {\n",
              "        text-align: right;\n",
              "    }\n",
              "</style>\n",
              "<table border=\"1\" class=\"dataframe\">\n",
              "  <thead>\n",
              "    <tr style=\"text-align: right;\">\n",
              "      <th></th>\n",
              "      <th>0</th>\n",
              "      <th>1</th>\n",
              "      <th>2</th>\n",
              "      <th>3</th>\n",
              "      <th>4</th>\n",
              "      <th>5</th>\n",
              "      <th>6</th>\n",
              "      <th>7</th>\n",
              "      <th>8</th>\n",
              "      <th>9</th>\n",
              "      <th>10</th>\n",
              "      <th>11</th>\n",
              "      <th>12</th>\n",
              "      <th>13</th>\n",
              "      <th>14</th>\n",
              "      <th>15</th>\n",
              "    </tr>\n",
              "  </thead>\n",
              "  <tbody>\n",
              "    <tr>\n",
              "      <th>30704</th>\n",
              "      <td>-0.065911</td>\n",
              "      <td>-0.033710</td>\n",
              "      <td>0.050281</td>\n",
              "      <td>-0.079252</td>\n",
              "      <td>0.018650</td>\n",
              "      <td>-0.007556</td>\n",
              "      <td>-0.034255</td>\n",
              "      <td>0.031543</td>\n",
              "      <td>-0.066850</td>\n",
              "      <td>-0.020734</td>\n",
              "      <td>0.012421</td>\n",
              "      <td>0.004593</td>\n",
              "      <td>0.046904</td>\n",
              "      <td>-0.052841</td>\n",
              "      <td>0.002475</td>\n",
              "      <td>-0.037123</td>\n",
              "    </tr>\n",
              "    <tr>\n",
              "      <th>186154</th>\n",
              "      <td>-0.061104</td>\n",
              "      <td>-0.073636</td>\n",
              "      <td>-0.063302</td>\n",
              "      <td>0.122202</td>\n",
              "      <td>-0.002651</td>\n",
              "      <td>-0.024399</td>\n",
              "      <td>-0.171544</td>\n",
              "      <td>-0.040400</td>\n",
              "      <td>-0.044731</td>\n",
              "      <td>-0.025990</td>\n",
              "      <td>-0.049684</td>\n",
              "      <td>0.006534</td>\n",
              "      <td>-0.038879</td>\n",
              "      <td>0.050438</td>\n",
              "      <td>0.022764</td>\n",
              "      <td>0.023830</td>\n",
              "    </tr>\n",
              "    <tr>\n",
              "      <th>125036</th>\n",
              "      <td>0.001447</td>\n",
              "      <td>-0.007809</td>\n",
              "      <td>0.156424</td>\n",
              "      <td>0.034424</td>\n",
              "      <td>0.041903</td>\n",
              "      <td>-0.037890</td>\n",
              "      <td>-0.022194</td>\n",
              "      <td>0.005165</td>\n",
              "      <td>0.035991</td>\n",
              "      <td>-0.060186</td>\n",
              "      <td>0.051078</td>\n",
              "      <td>-0.097887</td>\n",
              "      <td>0.053713</td>\n",
              "      <td>0.022668</td>\n",
              "      <td>-0.001424</td>\n",
              "      <td>-0.003897</td>\n",
              "    </tr>\n",
              "    <tr>\n",
              "      <th>195001</th>\n",
              "      <td>-0.004217</td>\n",
              "      <td>0.060281</td>\n",
              "      <td>0.020216</td>\n",
              "      <td>-0.121467</td>\n",
              "      <td>0.025085</td>\n",
              "      <td>0.002114</td>\n",
              "      <td>0.048279</td>\n",
              "      <td>-0.037175</td>\n",
              "      <td>0.038283</td>\n",
              "      <td>-0.015712</td>\n",
              "      <td>0.023496</td>\n",
              "      <td>0.015339</td>\n",
              "      <td>0.021293</td>\n",
              "      <td>-0.003993</td>\n",
              "      <td>-0.000141</td>\n",
              "      <td>-0.050301</td>\n",
              "    </tr>\n",
              "    <tr>\n",
              "      <th>87769</th>\n",
              "      <td>-0.047378</td>\n",
              "      <td>-0.019508</td>\n",
              "      <td>0.106611</td>\n",
              "      <td>0.047930</td>\n",
              "      <td>-0.044737</td>\n",
              "      <td>-0.020456</td>\n",
              "      <td>0.018591</td>\n",
              "      <td>0.012396</td>\n",
              "      <td>-0.073754</td>\n",
              "      <td>0.014946</td>\n",
              "      <td>-0.005362</td>\n",
              "      <td>0.049263</td>\n",
              "      <td>0.053734</td>\n",
              "      <td>-0.039447</td>\n",
              "      <td>0.005080</td>\n",
              "      <td>0.028704</td>\n",
              "    </tr>\n",
              "  </tbody>\n",
              "</table>\n",
              "</div>\n",
              "    <div class=\"colab-df-buttons\">\n",
              "\n",
              "  <div class=\"colab-df-container\">\n",
              "    <button class=\"colab-df-convert\" onclick=\"convertToInteractive('df-4725a01c-d3e0-45a0-8cb5-e413b43c71de')\"\n",
              "            title=\"Convert this dataframe to an interactive table.\"\n",
              "            style=\"display:none;\">\n",
              "\n",
              "  <svg xmlns=\"http://www.w3.org/2000/svg\" height=\"24px\" viewBox=\"0 -960 960 960\">\n",
              "    <path d=\"M120-120v-720h720v720H120Zm60-500h600v-160H180v160Zm220 220h160v-160H400v160Zm0 220h160v-160H400v160ZM180-400h160v-160H180v160Zm440 0h160v-160H620v160ZM180-180h160v-160H180v160Zm440 0h160v-160H620v160Z\"/>\n",
              "  </svg>\n",
              "    </button>\n",
              "\n",
              "  <style>\n",
              "    .colab-df-container {\n",
              "      display:flex;\n",
              "      gap: 12px;\n",
              "    }\n",
              "\n",
              "    .colab-df-convert {\n",
              "      background-color: #E8F0FE;\n",
              "      border: none;\n",
              "      border-radius: 50%;\n",
              "      cursor: pointer;\n",
              "      display: none;\n",
              "      fill: #1967D2;\n",
              "      height: 32px;\n",
              "      padding: 0 0 0 0;\n",
              "      width: 32px;\n",
              "    }\n",
              "\n",
              "    .colab-df-convert:hover {\n",
              "      background-color: #E2EBFA;\n",
              "      box-shadow: 0px 1px 2px rgba(60, 64, 67, 0.3), 0px 1px 3px 1px rgba(60, 64, 67, 0.15);\n",
              "      fill: #174EA6;\n",
              "    }\n",
              "\n",
              "    .colab-df-buttons div {\n",
              "      margin-bottom: 4px;\n",
              "    }\n",
              "\n",
              "    [theme=dark] .colab-df-convert {\n",
              "      background-color: #3B4455;\n",
              "      fill: #D2E3FC;\n",
              "    }\n",
              "\n",
              "    [theme=dark] .colab-df-convert:hover {\n",
              "      background-color: #434B5C;\n",
              "      box-shadow: 0px 1px 3px 1px rgba(0, 0, 0, 0.15);\n",
              "      filter: drop-shadow(0px 1px 2px rgba(0, 0, 0, 0.3));\n",
              "      fill: #FFFFFF;\n",
              "    }\n",
              "  </style>\n",
              "\n",
              "    <script>\n",
              "      const buttonEl =\n",
              "        document.querySelector('#df-4725a01c-d3e0-45a0-8cb5-e413b43c71de button.colab-df-convert');\n",
              "      buttonEl.style.display =\n",
              "        google.colab.kernel.accessAllowed ? 'block' : 'none';\n",
              "\n",
              "      async function convertToInteractive(key) {\n",
              "        const element = document.querySelector('#df-4725a01c-d3e0-45a0-8cb5-e413b43c71de');\n",
              "        const dataTable =\n",
              "          await google.colab.kernel.invokeFunction('convertToInteractive',\n",
              "                                                    [key], {});\n",
              "        if (!dataTable) return;\n",
              "\n",
              "        const docLinkHtml = 'Like what you see? Visit the ' +\n",
              "          '<a target=\"_blank\" href=https://colab.research.google.com/notebooks/data_table.ipynb>data table notebook</a>'\n",
              "          + ' to learn more about interactive tables.';\n",
              "        element.innerHTML = '';\n",
              "        dataTable['output_type'] = 'display_data';\n",
              "        await google.colab.output.renderOutput(dataTable, element);\n",
              "        const docLink = document.createElement('div');\n",
              "        docLink.innerHTML = docLinkHtml;\n",
              "        element.appendChild(docLink);\n",
              "      }\n",
              "    </script>\n",
              "  </div>\n",
              "\n",
              "\n",
              "<div id=\"df-cebaa51c-1d72-4e91-878a-a17a19c57e36\">\n",
              "  <button class=\"colab-df-quickchart\" onclick=\"quickchart('df-cebaa51c-1d72-4e91-878a-a17a19c57e36')\"\n",
              "            title=\"Suggest charts\"\n",
              "            style=\"display:none;\">\n",
              "\n",
              "<svg xmlns=\"http://www.w3.org/2000/svg\" height=\"24px\"viewBox=\"0 0 24 24\"\n",
              "     width=\"24px\">\n",
              "    <g>\n",
              "        <path d=\"M19 3H5c-1.1 0-2 .9-2 2v14c0 1.1.9 2 2 2h14c1.1 0 2-.9 2-2V5c0-1.1-.9-2-2-2zM9 17H7v-7h2v7zm4 0h-2V7h2v10zm4 0h-2v-4h2v4z\"/>\n",
              "    </g>\n",
              "</svg>\n",
              "  </button>\n",
              "\n",
              "<style>\n",
              "  .colab-df-quickchart {\n",
              "      --bg-color: #E8F0FE;\n",
              "      --fill-color: #1967D2;\n",
              "      --hover-bg-color: #E2EBFA;\n",
              "      --hover-fill-color: #174EA6;\n",
              "      --disabled-fill-color: #AAA;\n",
              "      --disabled-bg-color: #DDD;\n",
              "  }\n",
              "\n",
              "  [theme=dark] .colab-df-quickchart {\n",
              "      --bg-color: #3B4455;\n",
              "      --fill-color: #D2E3FC;\n",
              "      --hover-bg-color: #434B5C;\n",
              "      --hover-fill-color: #FFFFFF;\n",
              "      --disabled-bg-color: #3B4455;\n",
              "      --disabled-fill-color: #666;\n",
              "  }\n",
              "\n",
              "  .colab-df-quickchart {\n",
              "    background-color: var(--bg-color);\n",
              "    border: none;\n",
              "    border-radius: 50%;\n",
              "    cursor: pointer;\n",
              "    display: none;\n",
              "    fill: var(--fill-color);\n",
              "    height: 32px;\n",
              "    padding: 0;\n",
              "    width: 32px;\n",
              "  }\n",
              "\n",
              "  .colab-df-quickchart:hover {\n",
              "    background-color: var(--hover-bg-color);\n",
              "    box-shadow: 0 1px 2px rgba(60, 64, 67, 0.3), 0 1px 3px 1px rgba(60, 64, 67, 0.15);\n",
              "    fill: var(--button-hover-fill-color);\n",
              "  }\n",
              "\n",
              "  .colab-df-quickchart-complete:disabled,\n",
              "  .colab-df-quickchart-complete:disabled:hover {\n",
              "    background-color: var(--disabled-bg-color);\n",
              "    fill: var(--disabled-fill-color);\n",
              "    box-shadow: none;\n",
              "  }\n",
              "\n",
              "  .colab-df-spinner {\n",
              "    border: 2px solid var(--fill-color);\n",
              "    border-color: transparent;\n",
              "    border-bottom-color: var(--fill-color);\n",
              "    animation:\n",
              "      spin 1s steps(1) infinite;\n",
              "  }\n",
              "\n",
              "  @keyframes spin {\n",
              "    0% {\n",
              "      border-color: transparent;\n",
              "      border-bottom-color: var(--fill-color);\n",
              "      border-left-color: var(--fill-color);\n",
              "    }\n",
              "    20% {\n",
              "      border-color: transparent;\n",
              "      border-left-color: var(--fill-color);\n",
              "      border-top-color: var(--fill-color);\n",
              "    }\n",
              "    30% {\n",
              "      border-color: transparent;\n",
              "      border-left-color: var(--fill-color);\n",
              "      border-top-color: var(--fill-color);\n",
              "      border-right-color: var(--fill-color);\n",
              "    }\n",
              "    40% {\n",
              "      border-color: transparent;\n",
              "      border-right-color: var(--fill-color);\n",
              "      border-top-color: var(--fill-color);\n",
              "    }\n",
              "    60% {\n",
              "      border-color: transparent;\n",
              "      border-right-color: var(--fill-color);\n",
              "    }\n",
              "    80% {\n",
              "      border-color: transparent;\n",
              "      border-right-color: var(--fill-color);\n",
              "      border-bottom-color: var(--fill-color);\n",
              "    }\n",
              "    90% {\n",
              "      border-color: transparent;\n",
              "      border-bottom-color: var(--fill-color);\n",
              "    }\n",
              "  }\n",
              "</style>\n",
              "\n",
              "  <script>\n",
              "    async function quickchart(key) {\n",
              "      const quickchartButtonEl =\n",
              "        document.querySelector('#' + key + ' button');\n",
              "      quickchartButtonEl.disabled = true;  // To prevent multiple clicks.\n",
              "      quickchartButtonEl.classList.add('colab-df-spinner');\n",
              "      try {\n",
              "        const charts = await google.colab.kernel.invokeFunction(\n",
              "            'suggestCharts', [key], {});\n",
              "      } catch (error) {\n",
              "        console.error('Error during call to suggestCharts:', error);\n",
              "      }\n",
              "      quickchartButtonEl.classList.remove('colab-df-spinner');\n",
              "      quickchartButtonEl.classList.add('colab-df-quickchart-complete');\n",
              "    }\n",
              "    (() => {\n",
              "      let quickchartButtonEl =\n",
              "        document.querySelector('#df-cebaa51c-1d72-4e91-878a-a17a19c57e36 button');\n",
              "      quickchartButtonEl.style.display =\n",
              "        google.colab.kernel.accessAllowed ? 'block' : 'none';\n",
              "    })();\n",
              "  </script>\n",
              "</div>\n",
              "    </div>\n",
              "  </div>\n"
            ]
          },
          "metadata": {},
          "execution_count": 27
        }
      ]
    },
    {
      "cell_type": "code",
      "source": [
        "kmeans = KMeans(n_clusters=2, init='k-means++',n_init=10 )\n",
        "\n",
        "# Fit the model to the data\n",
        "kmeans.fit(pcaData)\n",
        "\n",
        "# Get the cluster labels\n",
        "labels = kmeans.labels_"
      ],
      "metadata": {
        "id": "JtMLyemDc63-"
      },
      "execution_count": 28,
      "outputs": []
    },
    {
      "cell_type": "code",
      "source": [
        "metrics.rand_score(y_train, labels)"
      ],
      "metadata": {
        "colab": {
          "base_uri": "https://localhost:8080/"
        },
        "id": "F6diGYU48-WY",
        "outputId": "0be2862f-02e5-4afe-cedb-443a39321079"
      },
      "execution_count": 29,
      "outputs": [
        {
          "output_type": "execute_result",
          "data": {
            "text/plain": [
              "0.9568645967636495"
            ]
          },
          "metadata": {},
          "execution_count": 29
        }
      ]
    },
    {
      "cell_type": "code",
      "source": [
        "metrics.adjusted_rand_score(y_train, labels)"
      ],
      "metadata": {
        "colab": {
          "base_uri": "https://localhost:8080/"
        },
        "id": "mi4u_uW7d4FQ",
        "outputId": "e5efa3d0-7128-42d4-8297-744cb09d0d1c"
      },
      "execution_count": 30,
      "outputs": [
        {
          "output_type": "execute_result",
          "data": {
            "text/plain": [
              "0.6730915013770039"
            ]
          },
          "metadata": {},
          "execution_count": 30
        }
      ]
    },
    {
      "cell_type": "code",
      "source": [
        "metrics.adjusted_mutual_info_score(y_train, labels)"
      ],
      "metadata": {
        "colab": {
          "base_uri": "https://localhost:8080/"
        },
        "id": "KyHFjgwWeP8n",
        "outputId": "983d050f-6fa1-497a-dec0-2bc9d8aded1c"
      },
      "execution_count": 31,
      "outputs": [
        {
          "output_type": "execute_result",
          "data": {
            "text/plain": [
              "0.5504702692001106"
            ]
          },
          "metadata": {},
          "execution_count": 31
        }
      ]
    },
    {
      "cell_type": "markdown",
      "source": [
        "Autoencoder effect on K-means:"
      ],
      "metadata": {
        "id": "t2w1BXeqYCNV"
      }
    },
    {
      "cell_type": "code",
      "source": [
        "\n",
        "autoencoder = Sequential([\n",
        "    GaussianNoise(0.05,input_dim=x_train.shape[1]),\n",
        "    ## encoding part\n",
        "    Dense(300, activation='relu',activity_regularizer=regularizers.l2(10e-2)),\n",
        "    Dense(150, activation='relu',activity_regularizer=regularizers.l2(10e-2)),\n",
        "    Dense(50, activation='relu',activity_regularizer=regularizers.l2(10e-2)),\n",
        "    Dense(10, activation='relu',activity_regularizer=regularizers.l2(10e-2)),\n",
        "    ## decoding part\n",
        "    Dense(10, activation='relu',activity_regularizer=regularizers.l2(10e-2)),\n",
        "    Dense(50, activation='relu',activity_regularizer=regularizers.l2(10e-2)),\n",
        "    Dense(150, activation='relu',activity_regularizer=regularizers.l2(10e-2)),\n",
        "    Dense(300, activation='relu', activity_regularizer=regularizers.l2(10e-2)),\n",
        "    ## output layer\n",
        "    Dense(x_train.shape[1], activation='relu')\n",
        "])"
      ],
      "metadata": {
        "id": "q_t4Q_xj3Mot"
      },
      "execution_count": 65,
      "outputs": []
    },
    {
      "cell_type": "code",
      "source": [
        "autoencoder.compile(optimizer=\"adadelta\", loss=\"mse\")"
      ],
      "metadata": {
        "id": "jGIQEtyu4Xu7"
      },
      "execution_count": 66,
      "outputs": []
    },
    {
      "cell_type": "code",
      "source": [
        "x_norm, x_fraud = x_train[y_train == 0], x_train[y_train == 1]"
      ],
      "metadata": {
        "id": "qLrQfVUd4-JT"
      },
      "execution_count": 67,
      "outputs": []
    },
    {
      "cell_type": "code",
      "source": [
        "early_stopping = EarlyStopping(monitor='val_loss', patience=2, mode='min', restore_best_weights=True)"
      ],
      "metadata": {
        "id": "so_9rtIjaaWG"
      },
      "execution_count": 68,
      "outputs": []
    },
    {
      "cell_type": "code",
      "source": [
        "autoencoder.fit(x_norm, x_norm,\n",
        "                batch_size = 32, epochs = 20,\n",
        "                shuffle = True, validation_split = 0.20,callbacks=[early_stopping]);"
      ],
      "metadata": {
        "id": "34dw8McO5Asj",
        "colab": {
          "base_uri": "https://localhost:8080/"
        },
        "outputId": "d252e244-dee3-4152-d9b3-dafcc6f0ad13"
      },
      "execution_count": 69,
      "outputs": [
        {
          "output_type": "stream",
          "name": "stdout",
          "text": [
            "Epoch 1/20\n",
            "5687/5687 [==============================] - 44s 7ms/step - loss: 0.8417 - val_loss: 0.3890\n",
            "Epoch 2/20\n",
            "5687/5687 [==============================] - 39s 7ms/step - loss: 0.2720 - val_loss: 0.2087\n",
            "Epoch 3/20\n",
            "5687/5687 [==============================] - 40s 7ms/step - loss: 0.1878 - val_loss: 0.1706\n",
            "Epoch 4/20\n",
            "5687/5687 [==============================] - 40s 7ms/step - loss: 0.1588 - val_loss: 0.1482\n",
            "Epoch 5/20\n",
            "5687/5687 [==============================] - 40s 7ms/step - loss: 0.1402 - val_loss: 0.1330\n",
            "Epoch 6/20\n",
            "5687/5687 [==============================] - 38s 7ms/step - loss: 0.1274 - val_loss: 0.1223\n",
            "Epoch 7/20\n",
            "5687/5687 [==============================] - 38s 7ms/step - loss: 0.1182 - val_loss: 0.1143\n",
            "Epoch 8/20\n",
            "5687/5687 [==============================] - 41s 7ms/step - loss: 0.1112 - val_loss: 0.1083\n",
            "Epoch 9/20\n",
            "5687/5687 [==============================] - 39s 7ms/step - loss: 0.1060 - val_loss: 0.1038\n",
            "Epoch 10/20\n",
            "5687/5687 [==============================] - 41s 7ms/step - loss: 0.1020 - val_loss: 0.1002\n",
            "Epoch 11/20\n",
            "5687/5687 [==============================] - 40s 7ms/step - loss: 0.0986 - val_loss: 0.0968\n",
            "Epoch 12/20\n",
            "5687/5687 [==============================] - 38s 7ms/step - loss: 0.0954 - val_loss: 0.0941\n",
            "Epoch 13/20\n",
            "5687/5687 [==============================] - 37s 7ms/step - loss: 0.0930 - val_loss: 0.0920\n",
            "Epoch 14/20\n",
            "5687/5687 [==============================] - 41s 7ms/step - loss: 0.0911 - val_loss: 0.0903\n",
            "Epoch 15/20\n",
            "5687/5687 [==============================] - 43s 7ms/step - loss: 0.0896 - val_loss: 0.0890\n",
            "Epoch 16/20\n",
            "5687/5687 [==============================] - 39s 7ms/step - loss: 0.0884 - val_loss: 0.0879\n",
            "Epoch 17/20\n",
            "5687/5687 [==============================] - 39s 7ms/step - loss: 0.0875 - val_loss: 0.0871\n",
            "Epoch 18/20\n",
            "5687/5687 [==============================] - 41s 7ms/step - loss: 0.0867 - val_loss: 0.0864\n",
            "Epoch 19/20\n",
            "5687/5687 [==============================] - 39s 7ms/step - loss: 0.0861 - val_loss: 0.0859\n",
            "Epoch 20/20\n",
            "5687/5687 [==============================] - 40s 7ms/step - loss: 0.0856 - val_loss: 0.0854\n"
          ]
        }
      ]
    },
    {
      "cell_type": "code",
      "source": [
        "hidden_representation = Sequential()\n",
        "hidden_representation.add(autoencoder.layers[0])\n",
        "hidden_representation.add(autoencoder.layers[1])\n",
        "hidden_representation.add(autoencoder.layers[2])\n",
        "hidden_representation.add(autoencoder.layers[3])\n",
        "hidden_representation.add(autoencoder.layers[4])"
      ],
      "metadata": {
        "id": "8Wtvf7kh5xFS"
      },
      "execution_count": 70,
      "outputs": []
    },
    {
      "cell_type": "code",
      "source": [
        "#index = np.random.choice(x_norm.shape[0], 3000, replace=False)\n",
        "norm_hid_rep = hidden_representation.predict(x_norm)\n",
        "fraud_hid_rep = hidden_representation.predict(x_fraud)"
      ],
      "metadata": {
        "id": "aKs68YbL50dc",
        "colab": {
          "base_uri": "https://localhost:8080/"
        },
        "outputId": "2c1b9a3f-7525-4d96-ea29-1ce6064ab707"
      },
      "execution_count": 72,
      "outputs": [
        {
          "output_type": "stream",
          "name": "stdout",
          "text": [
            "7108/7108 [==============================] - 13s 2ms/step\n",
            "356/356 [==============================] - 1s 2ms/step\n"
          ]
        }
      ]
    },
    {
      "cell_type": "code",
      "source": [
        "rep_x = np.append(norm_hid_rep, fraud_hid_rep, axis = 0)\n",
        "y_n = np.zeros(norm_hid_rep.shape[0])\n",
        "y_f = np.ones(fraud_hid_rep.shape[0])\n",
        "rep_y = np.append(y_n, y_f)\n",
        "# tsne_plot(rep_x, rep_y, \"latent_representation.png\")"
      ],
      "metadata": {
        "id": "OzpKanqK5-RK"
      },
      "execution_count": 73,
      "outputs": []
    },
    {
      "cell_type": "code",
      "source": [
        "kmeans = KMeans(n_clusters=2, init='k-means++',n_init=10 )\n",
        "\n",
        "# Fit the model to the data\n",
        "kmeans.fit(rep_x)\n",
        "\n",
        "# Get the cluster labels\n",
        "labels = kmeans.labels_"
      ],
      "metadata": {
        "id": "fEcFi6HgYmB2"
      },
      "execution_count": 74,
      "outputs": []
    },
    {
      "cell_type": "code",
      "source": [
        "metrics.rand_score(rep_y, labels)"
      ],
      "metadata": {
        "colab": {
          "base_uri": "https://localhost:8080/"
        },
        "id": "HDJWAOJbYmB3",
        "outputId": "a4ac60be-8565-4b18-8ec3-d38a64605e6f"
      },
      "execution_count": 75,
      "outputs": [
        {
          "output_type": "execute_result",
          "data": {
            "text/plain": [
              "0.922151901731142"
            ]
          },
          "metadata": {},
          "execution_count": 75
        }
      ]
    },
    {
      "cell_type": "code",
      "source": [
        "metrics.adjusted_rand_score(rep_y, labels)"
      ],
      "metadata": {
        "colab": {
          "base_uri": "https://localhost:8080/"
        },
        "id": "xSnvxlckYmB4",
        "outputId": "5b6f0cd0-3771-42d7-c598-67051d3310eb"
      },
      "execution_count": 76,
      "outputs": [
        {
          "output_type": "execute_result",
          "data": {
            "text/plain": [
              "0.2393545366673183"
            ]
          },
          "metadata": {},
          "execution_count": 76
        }
      ]
    },
    {
      "cell_type": "code",
      "source": [
        "metrics.adjusted_mutual_info_score(rep_y, labels)"
      ],
      "metadata": {
        "colab": {
          "base_uri": "https://localhost:8080/"
        },
        "id": "_pmxQwUDYmB4",
        "outputId": "10efd1ca-48f8-431f-e3e6-8427a07183e9"
      },
      "execution_count": 77,
      "outputs": [
        {
          "output_type": "execute_result",
          "data": {
            "text/plain": [
              "0.18659565336482775"
            ]
          },
          "metadata": {},
          "execution_count": 77
        }
      ]
    },
    {
      "cell_type": "markdown",
      "source": [
        "DBSCAN (crashed)"
      ],
      "metadata": {
        "id": "LbDjDPCBHO3N"
      }
    },
    {
      "cell_type": "code",
      "source": [
        "x_train.sample(1).to_numpy()"
      ],
      "metadata": {
        "colab": {
          "base_uri": "https://localhost:8080/"
        },
        "id": "O_SL-lLr00ja",
        "outputId": "1619dc65-f3b3-4cac-bf9c-7e5a00099a9e"
      },
      "execution_count": 35,
      "outputs": [
        {
          "output_type": "execute_result",
          "data": {
            "text/plain": [
              "array([[0.9692907 , 0.73709985, 0.8507748 , 0.21083817, 0.74907658,\n",
              "        0.26827478, 0.25692419, 0.78626239, 0.43781825, 0.53024036,\n",
              "        0.18264384, 0.66675187, 0.50110399, 0.60824978, 0.34544287,\n",
              "        0.4506552 , 0.74032542, 0.71304629, 0.55228859, 0.58646777,\n",
              "        0.56495398, 0.52172551, 0.65769211, 0.32814976, 0.59130318,\n",
              "        0.42853866, 0.41684695, 0.31524413, 0.0174418 ]])"
            ]
          },
          "metadata": {},
          "execution_count": 35
        }
      ]
    },
    {
      "cell_type": "code",
      "source": [
        "dist = lambda a,b: np.linalg.norm(a-b)\n",
        "dist(np.array([1,1]),np.array([0,0]))"
      ],
      "metadata": {
        "colab": {
          "base_uri": "https://localhost:8080/"
        },
        "id": "EarUcNsa0ROa",
        "outputId": "d51e106e-40c7-4ee4-8138-c5bb698cf165"
      },
      "execution_count": 36,
      "outputs": [
        {
          "output_type": "execute_result",
          "data": {
            "text/plain": [
              "1.4142135623730951"
            ]
          },
          "metadata": {},
          "execution_count": 36
        }
      ]
    },
    {
      "cell_type": "code",
      "source": [
        "fraud_eps_sample = []\n",
        "x_train_fraud = x_train[y_train==1.0]\n",
        "for i in range(100):\n",
        "  a = x_train_fraud.sample(1).to_numpy()\n",
        "  b = x_train_fraud.sample(1).to_numpy()\n",
        "  fraud_eps_sample.append(dist(a,b))\n",
        "fraud_eps_mean = np.mean(fraud_eps_sample)\n",
        "fraud_eps_std = np.std(fraud_eps_sample)\n",
        "\n",
        "print(fraud_eps_mean,fraud_eps_std)"
      ],
      "metadata": {
        "colab": {
          "base_uri": "https://localhost:8080/"
        },
        "id": "HgPAkZR1zkaR",
        "outputId": "3ac5cf2b-ac93-46b0-c1ac-cd843c0e7d7e"
      },
      "execution_count": 37,
      "outputs": [
        {
          "output_type": "stream",
          "name": "stdout",
          "text": [
            "0.6480270751690784 0.32202781443511413\n"
          ]
        }
      ]
    },
    {
      "cell_type": "code",
      "source": [
        "non_fraud_eps_sample = []\n",
        "x_train_non_fraud = x_train[y_train==0.0]\n",
        "for i in range(100):\n",
        "  a = x_train_non_fraud.sample(1).to_numpy()\n",
        "  b = x_train_non_fraud.sample(1).to_numpy()\n",
        "  non_fraud_eps_sample.append(dist(a,b))\n",
        "non_fraud_eps_mean = np.mean(non_fraud_eps_sample)\n",
        "non_fraud_eps_std = np.std(non_fraud_eps_sample)\n",
        "\n",
        "print(non_fraud_eps_mean,non_fraud_eps_std)"
      ],
      "metadata": {
        "colab": {
          "base_uri": "https://localhost:8080/"
        },
        "id": "1A5JBNMb2BCn",
        "outputId": "f24b5088-215c-4889-8100-a83c2b83cae7"
      },
      "execution_count": 38,
      "outputs": [
        {
          "output_type": "stream",
          "name": "stdout",
          "text": [
            "0.28629345457553884 0.07550073432234398\n"
          ]
        }
      ]
    },
    {
      "cell_type": "code",
      "source": [
        "eps = max(fraud_eps_mean,non_fraud_eps_mean)+max(fraud_eps_std,non_fraud_eps_std)\n",
        "eps"
      ],
      "metadata": {
        "colab": {
          "base_uri": "https://localhost:8080/"
        },
        "id": "xOGeDUo45S1s",
        "outputId": "c98bd7e6-9112-493d-c7d4-20268c740a89"
      },
      "execution_count": 39,
      "outputs": [
        {
          "output_type": "execute_result",
          "data": {
            "text/plain": [
              "0.9700548896041925"
            ]
          },
          "metadata": {},
          "execution_count": 39
        }
      ]
    },
    {
      "cell_type": "code",
      "source": [
        "from sklearn.cluster import DBSCAN"
      ],
      "metadata": {
        "id": "3jK7-sKoUAwg"
      },
      "execution_count": 40,
      "outputs": []
    },
    {
      "cell_type": "code",
      "source": [
        "dbscan = DBSCAN(eps=1.3, metric='euclidean')\n",
        "# Fit the model to the data\n",
        "dbscan.fit(x_train)"
      ],
      "metadata": {
        "id": "wQW5Txs8UBRH"
      },
      "execution_count": null,
      "outputs": []
    },
    {
      "cell_type": "code",
      "source": [
        "# Get the cluster labels\n",
        "labels = dbscan.labels_"
      ],
      "metadata": {
        "id": "alVTbdR9Xtz_"
      },
      "execution_count": null,
      "outputs": []
    },
    {
      "cell_type": "code",
      "source": [
        "metrics.rand_score(y_train, labels)"
      ],
      "metadata": {
        "id": "dBi7YDVTx47R"
      },
      "execution_count": null,
      "outputs": []
    },
    {
      "cell_type": "code",
      "source": [
        "metrics.adjusted_rand_score(y_train, labels)"
      ],
      "metadata": {
        "id": "HCrMZOGud-Fw"
      },
      "execution_count": null,
      "outputs": []
    },
    {
      "cell_type": "code",
      "source": [
        "metrics.adjusted_mutual_info_score(y_train, labels)"
      ],
      "metadata": {
        "id": "Z5ZUImbewo9N"
      },
      "execution_count": null,
      "outputs": []
    },
    {
      "cell_type": "markdown",
      "source": [
        "2. Classification"
      ],
      "metadata": {
        "id": "mV_9aw8aYq52"
      }
    },
    {
      "cell_type": "markdown",
      "source": [
        "Logistic Regression"
      ],
      "metadata": {
        "id": "ZUkLDReDlJlL"
      }
    },
    {
      "cell_type": "code",
      "source": [
        "clf = LogisticRegression(solver=\"lbfgs\").fit(x_train, y_train)\n",
        "y_pred = clf.predict(x_test)\n",
        "\n",
        "print (\"\")\n",
        "print (\"Classification Report: \")\n",
        "print (classification_report(y_test, y_pred))\n",
        "\n",
        "print (\"\")\n",
        "print (\"Accuracy Score: \", accuracy_score(y_test, y_pred))"
      ],
      "metadata": {
        "colab": {
          "base_uri": "https://localhost:8080/"
        },
        "id": "2zNE6Xla2kFz",
        "outputId": "01011f6d-9070-4288-875d-9504b5fa92ce"
      },
      "execution_count": null,
      "outputs": [
        {
          "output_type": "stream",
          "name": "stderr",
          "text": [
            "/usr/local/lib/python3.10/dist-packages/sklearn/linear_model/_logistic.py:458: ConvergenceWarning: lbfgs failed to converge (status=1):\n",
            "STOP: TOTAL NO. of ITERATIONS REACHED LIMIT.\n",
            "\n",
            "Increase the number of iterations (max_iter) or scale the data as shown in:\n",
            "    https://scikit-learn.org/stable/modules/preprocessing.html\n",
            "Please also refer to the documentation for alternative solver options:\n",
            "    https://scikit-learn.org/stable/modules/linear_model.html#logistic-regression\n",
            "  n_iter_i = _check_optimize_result(\n"
          ]
        },
        {
          "output_type": "stream",
          "name": "stdout",
          "text": [
            "\n",
            "Classification Report: \n",
            "              precision    recall  f1-score   support\n",
            "\n",
            "           0       1.00      1.00      1.00     56864\n",
            "           1       0.69      0.85      0.76        98\n",
            "\n",
            "    accuracy                           1.00     56962\n",
            "   macro avg       0.84      0.92      0.88     56962\n",
            "weighted avg       1.00      1.00      1.00     56962\n",
            "\n",
            "\n",
            "Accuracy Score:  0.9990695551420246\n"
          ]
        }
      ]
    },
    {
      "cell_type": "markdown",
      "source": [
        "SVM"
      ],
      "metadata": {
        "id": "6662LkH6lHsz"
      }
    },
    {
      "cell_type": "code",
      "source": [
        "from sklearn import svm\n",
        "from sklearn.linear_model import SGDClassifier"
      ],
      "metadata": {
        "id": "XfhYHmjN5a8J"
      },
      "execution_count": 79,
      "outputs": []
    },
    {
      "cell_type": "markdown",
      "source": [
        "Linear SVM"
      ],
      "metadata": {
        "id": "yQoujpuVlOvb"
      }
    },
    {
      "cell_type": "code",
      "source": [
        "clf = SGDClassifier(max_iter=4000, early_stopping=True, tol=1e-4).fit(x_train, y_train)\n",
        "y_pred = clf.predict(x_test)\n",
        "\n",
        "print (\"\")\n",
        "print (\"Classification Report: \")\n",
        "print (classification_report(y_test, y_pred))\n",
        "\n",
        "print (\"\")\n",
        "print (\"Accuracy Score: \", accuracy_score(y_test, y_pred))\n"
      ],
      "metadata": {
        "colab": {
          "base_uri": "https://localhost:8080/"
        },
        "id": "rWYpsG8I7o19",
        "outputId": "fd8b4825-05b2-4d64-8cba-66a12bc25f6a"
      },
      "execution_count": 86,
      "outputs": [
        {
          "output_type": "stream",
          "name": "stdout",
          "text": [
            "\n",
            "Classification Report: \n",
            "              precision    recall  f1-score   support\n",
            "\n",
            "           0       1.00      1.00      1.00     56864\n",
            "           1       0.83      0.85      0.84        98\n",
            "\n",
            "    accuracy                           1.00     56962\n",
            "   macro avg       0.91      0.92      0.92     56962\n",
            "weighted avg       1.00      1.00      1.00     56962\n",
            "\n",
            "\n",
            "Accuracy Score:  0.9994382219725431\n"
          ]
        }
      ]
    },
    {
      "cell_type": "markdown",
      "source": [
        "Kernel SVM"
      ],
      "metadata": {
        "id": "y_3vPWBNlR1c"
      }
    },
    {
      "cell_type": "code",
      "source": [
        "clf = svm.SVC(kernel=\"rbf\").fit(x_train, y_train)\n",
        "y_pred = clf.predict(x_test)\n",
        "\n",
        "print (\"\")\n",
        "print (\"Classification Report: \")\n",
        "print (classification_report(y_test, y_pred))\n",
        "\n",
        "print (\"\")\n",
        "print (\"Accuracy Score: \", accuracy_score(y_test, y_pred))\n"
      ],
      "metadata": {
        "colab": {
          "base_uri": "https://localhost:8080/"
        },
        "id": "tl2TbrHR4B0d",
        "outputId": "f2839fa2-07ab-4685-a25d-58a575ca7d19"
      },
      "execution_count": 87,
      "outputs": [
        {
          "output_type": "stream",
          "name": "stdout",
          "text": [
            "\n",
            "Classification Report: \n",
            "              precision    recall  f1-score   support\n",
            "\n",
            "           0       1.00      1.00      1.00     56864\n",
            "           1       0.76      0.86      0.80        98\n",
            "\n",
            "    accuracy                           1.00     56962\n",
            "   macro avg       0.88      0.93      0.90     56962\n",
            "weighted avg       1.00      1.00      1.00     56962\n",
            "\n",
            "\n",
            "Accuracy Score:  0.9992802219023208\n"
          ]
        }
      ]
    },
    {
      "cell_type": "code",
      "source": [
        "clf = svm.SVC(kernel=\"rbf\",class_weight={0 : 1, 1: 20}).fit(x_train, y_train)\n",
        "y_pred = clf.predict(x_test)\n",
        "\n",
        "print (\"\")\n",
        "print (\"Classification Report: \")\n",
        "print (classification_report(y_test, y_pred))\n",
        "\n",
        "print (\"\")\n",
        "print (\"Accuracy Score: \", accuracy_score(y_test, y_pred))\n"
      ],
      "metadata": {
        "colab": {
          "base_uri": "https://localhost:8080/"
        },
        "id": "yaOJIdJCiXNz",
        "outputId": "e6e0b7cb-1083-42fb-deb4-93ebf4c135c2"
      },
      "execution_count": 88,
      "outputs": [
        {
          "output_type": "stream",
          "name": "stdout",
          "text": [
            "\n",
            "Classification Report: \n",
            "              precision    recall  f1-score   support\n",
            "\n",
            "           0       1.00      0.98      0.99     56864\n",
            "           1       0.08      0.90      0.15        98\n",
            "\n",
            "    accuracy                           0.98     56962\n",
            "   macro avg       0.54      0.94      0.57     56962\n",
            "weighted avg       1.00      0.98      0.99     56962\n",
            "\n",
            "\n",
            "Accuracy Score:  0.982567325585478\n"
          ]
        }
      ]
    },
    {
      "cell_type": "markdown",
      "source": [
        "Deep learning"
      ],
      "metadata": {
        "id": "1dZVpsaKVjyC"
      }
    },
    {
      "cell_type": "code",
      "source": [
        "model = Sequential([\n",
        "     GaussianNoise(0.05,input_dim=29),\n",
        "     Dense(232, activation=\"relu\",kernel_regularizer=regularizers.l2(0.01), activity_regularizer=regularizers.L2(0.01)),\n",
        "     Dense(500, activation=\"relu\",kernel_regularizer=regularizers.l2(0.01), activity_regularizer=regularizers.L2(0.01)),\n",
        "     Dense(500, activation=\"relu\",kernel_regularizer=regularizers.l2(0.01), activity_regularizer=regularizers.L2(0.01)),\n",
        "     Dense(232, activation=\"relu\",kernel_regularizer=regularizers.l2(0.01), activity_regularizer=regularizers.L2(0.01)),\n",
        "     Dense(116, activation=\"relu\",kernel_regularizer=regularizers.l2(0.01), activity_regularizer=regularizers.L2(0.01)),\n",
        "     Dense(58, activation=\"relu\",kernel_regularizer=regularizers.l2(0.01), activity_regularizer=regularizers.L2(0.01)),\n",
        "     Dense(1, activation=\"sigmoid\")\n",
        "])"
      ],
      "metadata": {
        "id": "ntpAZgn7JD4Q"
      },
      "execution_count": null,
      "outputs": []
    },
    {
      "cell_type": "code",
      "source": [
        "# Input(shape=(29,1)),"
      ],
      "metadata": {
        "id": "TF0a2ofld-4O"
      },
      "execution_count": null,
      "outputs": []
    },
    {
      "cell_type": "code",
      "source": [
        "model.compile(loss='binary_crossentropy', optimizer='adam', metrics=['accuracy'])"
      ],
      "metadata": {
        "id": "q-guyJkJK6s6"
      },
      "execution_count": null,
      "outputs": []
    },
    {
      "cell_type": "code",
      "source": [
        "early_stopping = EarlyStopping(monitor='val_loss', patience=2, mode='min', restore_best_weights=True)"
      ],
      "metadata": {
        "id": "_1r__5yHMHOu"
      },
      "execution_count": null,
      "outputs": []
    },
    {
      "cell_type": "code",
      "source": [
        "X_train, X_val, Y_train, Y_val = train_test_split(x_train, y_train, test_size=0.2, random_state=1,stratify=y_train)"
      ],
      "metadata": {
        "id": "E4ZT0TB9OyX6"
      },
      "execution_count": null,
      "outputs": []
    },
    {
      "cell_type": "code",
      "source": [
        "history = model.fit(X_train, Y_train, validation_data=(X_val, Y_val), epochs=5, batch_size=32, verbose=1,callbacks=[early_stopping])"
      ],
      "metadata": {
        "colab": {
          "base_uri": "https://localhost:8080/"
        },
        "id": "M3XLMj2kLPFM",
        "outputId": "f21bdb18-3320-419e-8c79-c1db17f06592"
      },
      "execution_count": null,
      "outputs": [
        {
          "output_type": "stream",
          "name": "stdout",
          "text": [
            "Epoch 1/5\n",
            "5971/5971 [==============================] - 91s 15ms/step - loss: 0.2391 - accuracy: 0.9803 - val_loss: 0.1258 - val_accuracy: 0.9823\n",
            "Epoch 2/5\n",
            "5971/5971 [==============================] - 85s 14ms/step - loss: 0.1285 - accuracy: 0.9848 - val_loss: 0.1295 - val_accuracy: 0.9792\n",
            "Epoch 3/5\n",
            "5971/5971 [==============================] - 83s 14ms/step - loss: 0.1188 - accuracy: 0.9856 - val_loss: 0.1200 - val_accuracy: 0.9915\n",
            "Epoch 4/5\n",
            "5971/5971 [==============================] - 86s 14ms/step - loss: 0.1136 - accuracy: 0.9860 - val_loss: 0.1003 - val_accuracy: 0.9893\n",
            "Epoch 5/5\n",
            "5971/5971 [==============================] - 81s 14ms/step - loss: 0.1100 - accuracy: 0.9863 - val_loss: 0.1071 - val_accuracy: 0.9841\n"
          ]
        }
      ]
    },
    {
      "cell_type": "code",
      "source": [
        "plt.plot(history.history['loss'], label='Training Loss')\n",
        "\n",
        "plt.plot(history.history['val_loss'], label='Validation Loss')\n",
        "\n",
        "plt.xlabel('Epochs')\n",
        "\n",
        "plt.ylabel('Loss')\n",
        "\n",
        "plt.legend()\n",
        "\n",
        "plt.show()"
      ],
      "metadata": {
        "colab": {
          "base_uri": "https://localhost:8080/",
          "height": 449
        },
        "id": "B1VkZyiHNxIX",
        "outputId": "caa1616f-2244-4900-d153-1ca37fa62a84"
      },
      "execution_count": null,
      "outputs": [
        {
          "output_type": "display_data",
          "data": {
            "text/plain": [
              "<Figure size 640x480 with 1 Axes>"
            ],
            "image/png": "[encoded data removed]"
          },
          "metadata": {}
        }
      ]
    },
    {
      "cell_type": "code",
      "source": [
        "y_pred = model.predict(x_test)\n",
        "y_pred = np.array([1 if prob > 0.5 else 0 for prob in y_pred])"
      ],
      "metadata": {
        "colab": {
          "base_uri": "https://localhost:8080/"
        },
        "id": "1p8BFg_LQJ0b",
        "outputId": "52ecadb4-8138-454f-deae-933dbe086095"
      },
      "execution_count": null,
      "outputs": [
        {
          "output_type": "stream",
          "name": "stdout",
          "text": [
            "1781/1781 [==============================] - 6s 3ms/step\n"
          ]
        }
      ]
    },
    {
      "cell_type": "code",
      "source": [
        "print (\"\")\n",
        "print (\"Classification Report: \")\n",
        "print (classification_report(y_test, y_pred))\n",
        "\n",
        "print (\"\")\n",
        "print (\"Accuracy Score: \", accuracy_score(y_test, y_pred))\n"
      ],
      "metadata": {
        "colab": {
          "base_uri": "https://localhost:8080/"
        },
        "id": "FYIXT3j6Q7Fc",
        "outputId": "3d3b2225-6189-433d-ae1f-3fac3a4558d2"
      },
      "execution_count": null,
      "outputs": [
        {
          "output_type": "stream",
          "name": "stdout",
          "text": [
            "\n",
            "Classification Report: \n",
            "              precision    recall  f1-score   support\n",
            "\n",
            "           0       1.00      1.00      1.00     56864\n",
            "           1       0.88      0.68      0.77        98\n",
            "\n",
            "    accuracy                           1.00     56962\n",
            "   macro avg       0.94      0.84      0.88     56962\n",
            "weighted avg       1.00      1.00      1.00     56962\n",
            "\n",
            "\n",
            "Accuracy Score:  0.9992977774656788\n"
          ]
        }
      ]
    },
    {
      "cell_type": "code",
      "source": [],
      "metadata": {
        "id": "5MkZ0K7WAKuq"
      },
      "execution_count": null,
      "outputs": []
    }
  ]
}